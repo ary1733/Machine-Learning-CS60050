{
 "cells": [
  {
   "cell_type": "markdown",
   "metadata": {},
   "source": [
    "### Programming Assignment 2 Q2\n",
    "### Supervised Learning\n",
    "\n",
    "Group Number : 46\n",
    "\n",
    "Student 1 : Aryan Singh 19CS30007\n",
    "\n",
    "Student 2 : Seemant Guruprasad Achari 19CS30057\n"
   ]
  },
  {
   "cell_type": "code",
   "execution_count": 176,
   "metadata": {},
   "outputs": [],
   "source": [
    "# importing various tools and libraries\n",
    "import matplotlib.pyplot as plt\n",
    "import numpy as np\n",
    "import pandas as pd\n",
    "import scipy.stats\n",
    "\n",
    "from sklearn import svm\n",
    "from sklearn.neural_network import MLPClassifier\n"
   ]
  },
  {
   "cell_type": "code",
   "execution_count": 118,
   "metadata": {},
   "outputs": [],
   "source": [
    "# Column 1 is defined as the class label\n",
    "LABEL = 1 \n",
    "\n",
    "# To make outputs reproducible\n",
    "np.random.seed(101)"
   ]
  },
  {
   "cell_type": "code",
   "execution_count": 119,
   "metadata": {},
   "outputs": [],
   "source": [
    "# loading the dataset\n",
    "\n",
    "df = pd.read_csv('lung-cancer.data', header = None, na_values=[\"?\"])\n",
    "df.columns += 1"
   ]
  },
  {
   "cell_type": "code",
   "execution_count": 120,
   "metadata": {},
   "outputs": [
    {
     "name": "stdout",
     "output_type": "stream",
     "text": [
      "   1   2   3   4    5   6   7   8   9   10  ...  48  49  50  51  52  53  54  \\\n",
      "0   1   0   3   0  NaN   0   2   2   2   1  ...   2   2   2   2   2   1   1   \n",
      "1   1   0   3   3  1.0   0   3   1   3   1  ...   2   2   2   2   2   2   2   \n",
      "2   1   0   3   3  2.0   0   3   3   3   1  ...   2   2   2   2   2   2   2   \n",
      "3   1   0   2   3  2.0   1   3   3   3   1  ...   2   2   2   2   2   2   2   \n",
      "4   1   0   3   2  1.0   1   3   3   3   2  ...   2   2   2   2   2   2   2   \n",
      "\n",
      "   55  56  57  \n",
      "0   1   2   2  \n",
      "1   1   2   2  \n",
      "2   2   1   2  \n",
      "3   2   2   2  \n",
      "4   1   2   2  \n",
      "\n",
      "[5 rows x 57 columns]\n",
      "Dataset loaded successfully!\n"
     ]
    }
   ],
   "source": [
    "print(df.head())\n",
    "\n",
    "print(\"Dataset loaded successfully!\")"
   ]
  },
  {
   "cell_type": "code",
   "execution_count": 121,
   "metadata": {},
   "outputs": [
    {
     "name": "stdout",
     "output_type": "stream",
     "text": [
      "Attribute 5 has 4 missing data.\n",
      "Attribute 39 has 1 missing data.\n"
     ]
    }
   ],
   "source": [
    "for attr,value in df.isna().sum().items():\n",
    "    if(value > 0):\n",
    "        print(f\"Attribute {attr} has {value} missing data.\")"
   ]
  },
  {
   "cell_type": "code",
   "execution_count": 122,
   "metadata": {},
   "outputs": [],
   "source": [
    "# Filling the na values with mode of the columns\n",
    "fill_mode = lambda col: col.replace(np.nan, col.mode()[0])\n",
    "df_without_na = df.apply(fill_mode, axis=0)"
   ]
  },
  {
   "cell_type": "code",
   "execution_count": 123,
   "metadata": {},
   "outputs": [
    {
     "name": "stdout",
     "output_type": "stream",
     "text": [
      "Missing data handled using mode!\n"
     ]
    }
   ],
   "source": [
    "for attr,value in df_without_na.isna().sum().items():\n",
    "    if(value > 0):\n",
    "        print(f\"Attribute {attr} has {value} missing data.\")\n",
    "print(\"Missing data handled using mode!\")"
   ]
  },
  {
   "cell_type": "code",
   "execution_count": 124,
   "metadata": {},
   "outputs": [
    {
     "name": "stdout",
     "output_type": "stream",
     "text": [
      "   1   2   3   4    5   6   7   8   9   10  ...  48  49  50  51  52  53  54  \\\n",
      "0   1   0   3   0  1.0   0   2   2   2   1  ...   2   2   2   2   2   1   1   \n",
      "1   1   0   3   3  1.0   0   3   1   3   1  ...   2   2   2   2   2   2   2   \n",
      "2   1   0   3   3  2.0   0   3   3   3   1  ...   2   2   2   2   2   2   2   \n",
      "3   1   0   2   3  2.0   1   3   3   3   1  ...   2   2   2   2   2   2   2   \n",
      "4   1   0   3   2  1.0   1   3   3   3   2  ...   2   2   2   2   2   2   2   \n",
      "\n",
      "   55  56  57  \n",
      "0   1   2   2  \n",
      "1   1   2   2  \n",
      "2   2   1   2  \n",
      "3   2   2   2  \n",
      "4   1   2   2  \n",
      "\n",
      "[5 rows x 57 columns]\n"
     ]
    }
   ],
   "source": [
    "print(df_without_na.head())"
   ]
  },
  {
   "cell_type": "code",
   "execution_count": 125,
   "metadata": {},
   "outputs": [],
   "source": [
    "# splitting dataset index maintaing the ratio of true and false examples\n",
    "def train_test_split(df,train_sample=0.5,target_col= LABEL):\n",
    "    all_indexes=[]\n",
    "    df_grouped= df.groupby(target_col)\n",
    "    for x,x_df in df_grouped:\n",
    "        t = x_df.sample(frac=train_sample,).index\n",
    "        all_indexes.append(t)\n",
    "    g = all_indexes[0].values\n",
    "    for k in all_indexes[1:]:\n",
    "        g=np.hstack([g,k.values])\n",
    "        #np.hstack([all_indexes[0].values,all_indexes[1].values])\n",
    "\n",
    "    train_df = df[df.index.isin(g) ]\n",
    "    test_df = df[~df.index.isin(g)]\n",
    "    return train_df, test_df "
   ]
  },
  {
   "cell_type": "code",
   "execution_count": 126,
   "metadata": {},
   "outputs": [
    {
     "data": {
      "text/plain": [
       "2    0.40625\n",
       "3    0.31250\n",
       "1    0.28125\n",
       "Name: 1, dtype: float64"
      ]
     },
     "execution_count": 126,
     "metadata": {},
     "output_type": "execute_result"
    }
   ],
   "source": [
    "df_without_na[LABEL].value_counts(True)"
   ]
  },
  {
   "cell_type": "code",
   "execution_count": 127,
   "metadata": {},
   "outputs": [],
   "source": [
    "train_df, test_df = train_test_split(df_without_na,0.8)"
   ]
  },
  {
   "cell_type": "code",
   "execution_count": 128,
   "metadata": {},
   "outputs": [
    {
     "data": {
      "text/plain": [
       "2    10\n",
       "3     8\n",
       "1     7\n",
       "Name: 1, dtype: int64"
      ]
     },
     "execution_count": 128,
     "metadata": {},
     "output_type": "execute_result"
    }
   ],
   "source": [
    "train_df[LABEL].value_counts()"
   ]
  },
  {
   "cell_type": "code",
   "execution_count": 129,
   "metadata": {},
   "outputs": [
    {
     "name": "stdout",
     "output_type": "stream",
     "text": [
      "The shape of training dataset (25, 57)\n",
      "The shape of testing dataset (7, 57)\n"
     ]
    }
   ],
   "source": [
    "print(f\"The shape of training dataset {train_df.shape}\")\n",
    "print(f\"The shape of testing dataset {test_df.shape}\")"
   ]
  },
  {
   "cell_type": "code",
   "execution_count": 130,
   "metadata": {},
   "outputs": [
    {
     "name": "stdout",
     "output_type": "stream",
     "text": [
      "    count  mean       std  min  25%  50%  75%  max\n",
      "2    25.0  0.00  0.000000  0.0  0.0  0.0  0.0  0.0\n",
      "3    25.0  2.32  0.556776  1.0  2.0  2.0  3.0  3.0\n",
      "4    25.0  2.24  0.830662  0.0  2.0  2.0  3.0  3.0\n",
      "5    25.0  1.36  0.568624  0.0  1.0  1.0  2.0  2.0\n",
      "6    25.0  0.28  0.458258  0.0  0.0  0.0  1.0  1.0\n",
      "7    25.0  2.24  0.723418  1.0  2.0  2.0  3.0  3.0\n",
      "8    25.0  2.12  0.781025  1.0  2.0  2.0  3.0  3.0\n",
      "9    25.0  2.44  0.768115  1.0  2.0  3.0  3.0  3.0\n",
      "10   25.0  1.20  0.577350  1.0  1.0  1.0  1.0  3.0\n",
      "11   25.0  1.44  0.583095  1.0  1.0  1.0  2.0  3.0\n",
      "12   25.0  1.60  0.707107  1.0  1.0  1.0  2.0  3.0\n",
      "13   25.0  0.88  0.832666  0.0  0.0  1.0  1.0  3.0\n",
      "14   25.0  1.88  0.832666  1.0  1.0  2.0  3.0  3.0\n",
      "15   25.0  2.20  0.763763  1.0  2.0  2.0  3.0  3.0\n",
      "16   25.0  2.24  0.778888  1.0  2.0  2.0  3.0  3.0\n",
      "17   25.0  1.40  0.577350  1.0  1.0  1.0  2.0  3.0\n",
      "18   25.0  1.84  0.374166  1.0  2.0  2.0  2.0  2.0\n",
      "19   25.0  1.88  0.331662  1.0  2.0  2.0  2.0  2.0\n",
      "20   25.0  0.52  0.871780  0.0  0.0  0.0  1.0  2.0\n",
      "21   25.0  1.00  0.957427  0.0  0.0  1.0  2.0  2.0\n",
      "22   25.0  1.68  0.476095  1.0  1.0  2.0  2.0  2.0\n",
      "23   25.0  1.76  0.435890  1.0  2.0  2.0  2.0  2.0\n",
      "24   25.0  1.72  0.458258  1.0  1.0  2.0  2.0  2.0\n",
      "25   25.0  1.40  0.707107  1.0  1.0  1.0  2.0  3.0\n",
      "26   25.0  1.68  0.627163  1.0  1.0  2.0  2.0  3.0\n",
      "27   25.0  2.08  0.812404  1.0  1.0  2.0  3.0  3.0\n",
      "28   25.0  2.40  0.500000  2.0  2.0  2.0  3.0  3.0\n",
      "29   25.0  2.04  0.538516  1.0  2.0  2.0  2.0  3.0\n",
      "30   25.0  2.20  0.707107  1.0  2.0  2.0  3.0  3.0\n",
      "31   25.0  1.44  0.711805  1.0  1.0  1.0  2.0  3.0\n",
      "32   25.0  2.44  0.820569  1.0  2.0  3.0  3.0  3.0\n",
      "33   25.0  2.44  0.820569  1.0  2.0  3.0  3.0  3.0\n",
      "34   25.0  2.80  0.500000  1.0  3.0  3.0  3.0  3.0\n",
      "35   25.0  1.72  0.678233  1.0  1.0  2.0  2.0  3.0\n",
      "36   25.0  1.56  0.711805  1.0  1.0  1.0  2.0  3.0\n",
      "37   25.0  1.68  0.556776  1.0  1.0  2.0  2.0  3.0\n",
      "38   25.0  1.80  0.645497  1.0  1.0  2.0  2.0  3.0\n",
      "39   25.0  1.68  0.627163  1.0  1.0  2.0  2.0  3.0\n",
      "40   25.0  1.92  0.493288  1.0  2.0  2.0  2.0  3.0\n",
      "41   25.0  1.96  0.454606  1.0  2.0  2.0  2.0  3.0\n",
      "42   25.0  1.60  0.577350  1.0  1.0  2.0  2.0  3.0\n",
      "43   25.0  1.76  0.663325  1.0  1.0  2.0  2.0  3.0\n",
      "44   25.0  2.04  0.351188  1.0  2.0  2.0  2.0  3.0\n",
      "45   25.0  1.96  0.454606  1.0  2.0  2.0  2.0  3.0\n",
      "46   25.0  1.96  0.454606  1.0  2.0  2.0  2.0  3.0\n",
      "47   25.0  1.92  0.493288  1.0  2.0  2.0  2.0  3.0\n",
      "48   25.0  2.08  0.276887  2.0  2.0  2.0  2.0  3.0\n",
      "49   25.0  2.08  0.276887  2.0  2.0  2.0  2.0  3.0\n",
      "50   25.0  2.00  0.408248  1.0  2.0  2.0  2.0  3.0\n",
      "51   25.0  1.96  0.351188  1.0  2.0  2.0  2.0  3.0\n",
      "52   25.0  2.08  0.493288  1.0  2.0  2.0  2.0  3.0\n",
      "53   25.0  1.88  0.439697  1.0  2.0  2.0  2.0  3.0\n",
      "54   25.0  1.88  0.439697  1.0  2.0  2.0  2.0  3.0\n",
      "55   25.0  1.60  0.500000  1.0  1.0  2.0  2.0  2.0\n",
      "56   25.0  1.76  0.435890  1.0  2.0  2.0  2.0  2.0\n",
      "57   25.0  1.72  0.458258  1.0  1.0  2.0  2.0  2.0\n"
     ]
    }
   ],
   "source": [
    "train_stats = train_df.describe()\n",
    "train_stats.pop(LABEL)\n",
    "train_stats = train_stats.transpose()\n",
    "print(train_stats)\n"
   ]
  },
  {
   "cell_type": "code",
   "execution_count": 131,
   "metadata": {},
   "outputs": [
    {
     "name": "stdout",
     "output_type": "stream",
     "text": [
      "Attribute 2 has 0 std in the training set, hence droping it.\n"
     ]
    }
   ],
   "source": [
    "attr_to_drop = []\n",
    "for row, val in train_stats[\"std\"].items():\n",
    "    if val == 0:\n",
    "        print(f\"Attribute {row} has 0 std in the training set, hence droping it.\")\n",
    "        attr_to_drop.append(row)\n",
    "train_stats_upd = train_stats.drop(attr_to_drop)\n",
    "train_df_upd = train_df.drop(attr_to_drop, axis = 1)\n",
    "test_df_upd = test_df.drop(attr_to_drop, axis = 1)\n",
    "        "
   ]
  },
  {
   "cell_type": "code",
   "execution_count": 132,
   "metadata": {},
   "outputs": [],
   "source": [
    "train_labels = train_df_upd.pop(LABEL)\n",
    "test_labels = test_df_upd.pop(LABEL)"
   ]
  },
  {
   "cell_type": "markdown",
   "metadata": {},
   "source": [
    "### Data Normalization"
   ]
  },
  {
   "cell_type": "code",
   "execution_count": 166,
   "metadata": {},
   "outputs": [],
   "source": [
    "def standard_scalar_normalization(df, df_stats):\n",
    "    # print(df.shape)\n",
    "    norm_df = (df - df_stats[\"mean\"])/df_stats[\"std\"]\n",
    "    np.nan_to_num(norm_df, False, 0.0)\n",
    "    return norm_df"
   ]
  },
  {
   "cell_type": "code",
   "execution_count": 134,
   "metadata": {},
   "outputs": [
    {
     "name": "stdout",
     "output_type": "stream",
     "text": [
      "(25, 55)\n",
      "(7, 55)\n"
     ]
    }
   ],
   "source": [
    "norm_train = standard_scalar_normalization(train_df_upd, train_stats_upd)\n",
    "norm_test = standard_scalar_normalization(test_df_upd, train_stats_upd)"
   ]
  },
  {
   "cell_type": "code",
   "execution_count": 135,
   "metadata": {},
   "outputs": [
    {
     "name": "stdout",
     "output_type": "stream",
     "text": [
      "Normalization complete\n"
     ]
    }
   ],
   "source": [
    "print(\"Normalization complete\")"
   ]
  },
  {
   "cell_type": "code",
   "execution_count": 136,
   "metadata": {},
   "outputs": [],
   "source": [
    "#Create a svm Classifier\n",
    "model = svm.SVC(C = 1, # reg paramater\n",
    "                kernel='linear', #kernel{‘linear’, ‘poly’, ‘rbf’, ‘sigmoid’, ‘precomputed’}, default=’rbf’\n",
    "               ) # Linear Kernel\n",
    "\n",
    "#Train the model using the training sets\n",
    "model.fit(norm_train, train_labels)\n",
    "\n",
    "#Predict the response for test dataset\n",
    "y_pred = model.predict(norm_test)"
   ]
  },
  {
   "cell_type": "code",
   "execution_count": 137,
   "metadata": {},
   "outputs": [
    {
     "name": "stdout",
     "output_type": "stream",
     "text": [
      "Accuracy: 0.5714285714285714\n"
     ]
    }
   ],
   "source": [
    "from sklearn import metrics\n",
    "print(\"Accuracy:\",metrics.accuracy_score(test_labels, y_pred))\n"
   ]
  },
  {
   "cell_type": "code",
   "execution_count": 138,
   "metadata": {},
   "outputs": [],
   "source": [
    "def GetAccuracy(trueLabel, pred, printDetails = True):\n",
    "    total_samples = len(trueLabel)\n",
    "    cnt = (trueLabel == pred).sum()\n",
    "    accuracy = cnt / total_samples\n",
    "    if(printDetails):\n",
    "        print(f\"Accuracy  = {cnt / total_samples}\")\n",
    "    \n",
    "    return accuracy"
   ]
  },
  {
   "cell_type": "code",
   "execution_count": 139,
   "metadata": {},
   "outputs": [],
   "source": [
    "model_map = {}\n",
    "accuracy_map = {}"
   ]
  },
  {
   "cell_type": "code",
   "execution_count": 140,
   "metadata": {},
   "outputs": [
    {
     "name": "stdout",
     "output_type": "stream",
     "text": [
      "Training Accuracy for SVM with linear kernel = 1.0\n",
      "Testing Accuracy for SVM with linear  kernel = 0.5714285714285714\n",
      "Training Accuracy for SVM with poly kernel = 0.88\n",
      "Testing Accuracy for SVM with poly  kernel = 0.42857142857142855\n",
      "Training Accuracy for SVM with rbf kernel = 0.96\n",
      "Testing Accuracy for SVM with rbf  kernel = 0.42857142857142855\n"
     ]
    }
   ],
   "source": [
    "kernel_types = ['linear', 'poly', 'rbf']\n",
    "\n",
    "for kernel_type in kernel_types:\n",
    "\n",
    "    #Create a linear kernel svm Classifier\n",
    "    model = svm.SVC(C = 1, \n",
    "                    kernel=kernel_type, \n",
    "                    degree = 2 # will be ignored by all kernel except poly\n",
    "                    # Thus poly will become quadratic\n",
    "                ) # Linear Kernel\n",
    "\n",
    "    #Train the model using the training sets\n",
    "    model.fit(norm_train, train_labels)\n",
    "\n",
    "\n",
    "    y_pred = model.predict(norm_train)\n",
    "    acc = GetAccuracy(train_labels, y_pred, False)\n",
    "    print(f\"Training Accuracy for SVM with {kernel_type} kernel = {acc}\")\n",
    "\n",
    "    #Predict the response for test dataset\n",
    "    y_pred = model.predict(norm_test)\n",
    "    acc = GetAccuracy(test_labels, y_pred, False)\n",
    "    print(f\"Testing Accuracy for SVM with {kernel_type}  kernel = {acc}\")\n",
    "\n",
    "\n",
    "    model_map[kernel_type] = model\n",
    "    accuracy_map[kernel_type] = acc"
   ]
  },
  {
   "cell_type": "code",
   "execution_count": 149,
   "metadata": {},
   "outputs": [],
   "source": [
    "mlp_model_map= {}\n",
    "mlp_model_accuracy = {}\n",
    "mlp_models_sizes = {\n",
    "    'Single Hidden Layer' : (16,),\n",
    "    'Multi Hidden Layer' : (256, 16)\n",
    "}"
   ]
  },
  {
   "cell_type": "code",
   "execution_count": 151,
   "metadata": {},
   "outputs": [
    {
     "name": "stderr",
     "output_type": "stream",
     "text": [
      "e:\\Books\\ML\\Assignments\\PA-2\\venv\\lib\\site-packages\\sklearn\\neural_network\\_multilayer_perceptron.py:612: UserWarning: Got `batch_size` less than 1 or larger than sample size. It is going to be clipped\n",
      "  \"Got `batch_size` less than 1 or larger than \"\n",
      "e:\\Books\\ML\\Assignments\\PA-2\\venv\\lib\\site-packages\\sklearn\\neural_network\\_multilayer_perceptron.py:696: ConvergenceWarning: Stochastic Optimizer: Maximum iterations (200) reached and the optimization hasn't converged yet.\n",
      "  ConvergenceWarning,\n",
      "e:\\Books\\ML\\Assignments\\PA-2\\venv\\lib\\site-packages\\sklearn\\neural_network\\_multilayer_perceptron.py:612: UserWarning: Got `batch_size` less than 1 or larger than sample size. It is going to be clipped\n",
      "  \"Got `batch_size` less than 1 or larger than \"\n"
     ]
    },
    {
     "name": "stdout",
     "output_type": "stream",
     "text": [
      "Testing Accuracy for MLP with Single Hidden Layer  = 0.2857142857142857\n",
      "Testing Accuracy for MLP with Multi Hidden Layer  = 0.42857142857142855\n"
     ]
    },
    {
     "name": "stderr",
     "output_type": "stream",
     "text": [
      "e:\\Books\\ML\\Assignments\\PA-2\\venv\\lib\\site-packages\\sklearn\\neural_network\\_multilayer_perceptron.py:696: ConvergenceWarning: Stochastic Optimizer: Maximum iterations (200) reached and the optimization hasn't converged yet.\n",
      "  ConvergenceWarning,\n"
     ]
    }
   ],
   "source": [
    "for name, layerSize in mlp_models_sizes.items():\n",
    "    mlp = MLPClassifier(learning_rate_init = 0.001, batch_size=32, hidden_layer_sizes=layerSize, solver='sgd')\n",
    "    mlp.fit(norm_train, train_labels)\n",
    "    pred = mlp.predict(norm_test)\n",
    "    acc = GetAccuracy(test_labels, pred, False)\n",
    "    print(f\"Testing Accuracy for MLP with {name}  = {acc}\")\n",
    "    mlp_model_map[name] = mlp\n",
    "    mlp_model_accuracy[name] = acc"
   ]
  },
  {
   "cell_type": "code",
   "execution_count": 143,
   "metadata": {},
   "outputs": [
    {
     "data": {
      "text/plain": [
       "MLPClassifier(batch_size=32, hidden_layer_sizes=(16,), solver='sgd')"
      ]
     },
     "execution_count": 143,
     "metadata": {},
     "output_type": "execute_result"
    }
   ],
   "source": [
    "mlp = MLPClassifier(learning_rate_init = 0.001, batch_size=32, hidden_layer_sizes=(16,), solver='sgd')\n",
    "mlp"
   ]
  },
  {
   "cell_type": "code",
   "execution_count": 144,
   "metadata": {},
   "outputs": [
    {
     "name": "stderr",
     "output_type": "stream",
     "text": [
      "e:\\Books\\ML\\Assignments\\PA-2\\venv\\lib\\site-packages\\sklearn\\neural_network\\_multilayer_perceptron.py:612: UserWarning: Got `batch_size` less than 1 or larger than sample size. It is going to be clipped\n",
      "  \"Got `batch_size` less than 1 or larger than \"\n",
      "e:\\Books\\ML\\Assignments\\PA-2\\venv\\lib\\site-packages\\sklearn\\neural_network\\_multilayer_perceptron.py:696: ConvergenceWarning: Stochastic Optimizer: Maximum iterations (200) reached and the optimization hasn't converged yet.\n",
      "  ConvergenceWarning,\n"
     ]
    },
    {
     "data": {
      "text/plain": [
       "MLPClassifier(batch_size=32, hidden_layer_sizes=(16,), solver='sgd')"
      ]
     },
     "execution_count": 144,
     "metadata": {},
     "output_type": "execute_result"
    }
   ],
   "source": [
    "mlp.fit(norm_train, train_labels)"
   ]
  },
  {
   "cell_type": "code",
   "execution_count": 145,
   "metadata": {},
   "outputs": [],
   "source": [
    "pred = mlp.predict(norm_test)"
   ]
  },
  {
   "cell_type": "code",
   "execution_count": 148,
   "metadata": {},
   "outputs": [
    {
     "name": "stdout",
     "output_type": "stream",
     "text": [
      "Accuracy  = 0.42857142857142855\n"
     ]
    },
    {
     "data": {
      "text/plain": [
       "0.42857142857142855"
      ]
     },
     "execution_count": 148,
     "metadata": {},
     "output_type": "execute_result"
    }
   ],
   "source": [
    "GetAccuracy(test_labels, pred)"
   ]
  },
  {
   "cell_type": "code",
   "execution_count": 156,
   "metadata": {},
   "outputs": [
    {
     "name": "stderr",
     "output_type": "stream",
     "text": [
      "e:\\Books\\ML\\Assignments\\PA-2\\venv\\lib\\site-packages\\sklearn\\neural_network\\_multilayer_perceptron.py:612: UserWarning: Got `batch_size` less than 1 or larger than sample size. It is going to be clipped\n",
      "  \"Got `batch_size` less than 1 or larger than \"\n",
      "e:\\Books\\ML\\Assignments\\PA-2\\venv\\lib\\site-packages\\sklearn\\neural_network\\_multilayer_perceptron.py:612: UserWarning: Got `batch_size` less than 1 or larger than sample size. It is going to be clipped\n",
      "  \"Got `batch_size` less than 1 or larger than \"\n"
     ]
    },
    {
     "name": "stdout",
     "output_type": "stream",
     "text": [
      "Testing Accuracy for MLP with Multi Hidden Layer  = 0.5714285714285714\n",
      "Testing Accuracy for MLP with Multi Hidden Layer  = 0.7142857142857143\n"
     ]
    },
    {
     "name": "stderr",
     "output_type": "stream",
     "text": [
      "e:\\Books\\ML\\Assignments\\PA-2\\venv\\lib\\site-packages\\sklearn\\neural_network\\_multilayer_perceptron.py:612: UserWarning: Got `batch_size` less than 1 or larger than sample size. It is going to be clipped\n",
      "  \"Got `batch_size` less than 1 or larger than \"\n",
      "e:\\Books\\ML\\Assignments\\PA-2\\venv\\lib\\site-packages\\sklearn\\neural_network\\_multilayer_perceptron.py:696: ConvergenceWarning: Stochastic Optimizer: Maximum iterations (200) reached and the optimization hasn't converged yet.\n",
      "  ConvergenceWarning,\n",
      "e:\\Books\\ML\\Assignments\\PA-2\\venv\\lib\\site-packages\\sklearn\\neural_network\\_multilayer_perceptron.py:612: UserWarning: Got `batch_size` less than 1 or larger than sample size. It is going to be clipped\n",
      "  \"Got `batch_size` less than 1 or larger than \"\n"
     ]
    },
    {
     "name": "stdout",
     "output_type": "stream",
     "text": [
      "Testing Accuracy for MLP with Multi Hidden Layer  = 0.42857142857142855\n"
     ]
    },
    {
     "name": "stderr",
     "output_type": "stream",
     "text": [
      "e:\\Books\\ML\\Assignments\\PA-2\\venv\\lib\\site-packages\\sklearn\\neural_network\\_multilayer_perceptron.py:696: ConvergenceWarning: Stochastic Optimizer: Maximum iterations (200) reached and the optimization hasn't converged yet.\n",
      "  ConvergenceWarning,\n",
      "e:\\Books\\ML\\Assignments\\PA-2\\venv\\lib\\site-packages\\sklearn\\neural_network\\_multilayer_perceptron.py:612: UserWarning: Got `batch_size` less than 1 or larger than sample size. It is going to be clipped\n",
      "  \"Got `batch_size` less than 1 or larger than \"\n"
     ]
    },
    {
     "name": "stdout",
     "output_type": "stream",
     "text": [
      "Testing Accuracy for MLP with Multi Hidden Layer  = 0.5714285714285714\n",
      "Testing Accuracy for MLP with Multi Hidden Layer  = 0.2857142857142857\n"
     ]
    },
    {
     "name": "stderr",
     "output_type": "stream",
     "text": [
      "e:\\Books\\ML\\Assignments\\PA-2\\venv\\lib\\site-packages\\sklearn\\neural_network\\_multilayer_perceptron.py:696: ConvergenceWarning: Stochastic Optimizer: Maximum iterations (200) reached and the optimization hasn't converged yet.\n",
      "  ConvergenceWarning,\n"
     ]
    }
   ],
   "source": [
    "\n",
    "\n",
    "bestSetting = max(mlp_model_accuracy, key= mlp_model_accuracy.get)\n",
    "LayerSize = mlp_models_sizes[bestSetting]\n",
    "y_data = []\n",
    "x_data = [0.1, 0.01, 0.001, 0.0001, 0.00001]\n",
    "for l_rate in x_data:\n",
    "    mlp = MLPClassifier(learning_rate_init = l_rate, batch_size=32, hidden_layer_sizes=layerSize, solver='sgd')\n",
    "    mlp.fit(norm_train, train_labels)\n",
    "    pred = mlp.predict(norm_test)\n",
    "    acc = GetAccuracy(test_labels, pred, False)\n",
    "    print(f\"Testing Accuracy for MLP with {name}  = {acc}\")\n",
    "    y_data.append(acc)"
   ]
  },
  {
   "cell_type": "code",
   "execution_count": 158,
   "metadata": {},
   "outputs": [
    {
     "data": {
      "image/png": "[encoded data removed]",
      "text/plain": [
       "<Figure size 1000x800 with 1 Axes>"
      ]
     },
     "metadata": {},
     "output_type": "display_data"
    }
   ],
   "source": [
    "plt.figure(figsize = (10,8))\n",
    "plt.plot(x_data, y_data)\n",
    "plt.title(\"learning rate vs accuracy\")\n",
    "plt.xlabel(\"learning rate\")\n",
    "plt.ylabel(\"accuracy\")\n",
    "plt.xscale(\"log\")\n",
    "plt.show()"
   ]
  },
  {
   "cell_type": "code",
   "execution_count": 167,
   "metadata": {},
   "outputs": [],
   "source": [
    "def modelEvaluation(model, df):\n",
    "    fill_mode = lambda col: col.replace(np.nan, col.mode()[0])\n",
    "    df_without_na = df.apply(fill_mode, axis=0)\n",
    "    train_df, test_df = train_test_split(df_without_na,0.8)\n",
    "    train_stats = train_df.describe()\n",
    "    train_stats.pop(LABEL)\n",
    "    train_stats = train_stats.transpose()\n",
    "    attr_to_drop = []\n",
    "    for row, val in train_stats[\"std\"].items():\n",
    "        if val == 0:\n",
    "            print(f\"Attribute {row} has 0 std in the training set, hence droping it.\")\n",
    "            attr_to_drop.append(row)\n",
    "            return 0.0 # since it has a useless attribute\n",
    "    train_stats_upd = train_stats.drop(attr_to_drop)\n",
    "    train_df_upd = train_df.drop(attr_to_drop, axis = 1)\n",
    "    test_df_upd = test_df.drop(attr_to_drop, axis = 1)\n",
    "    # print(train_df_upd.shape)\n",
    "    train_labels = train_df_upd.pop(LABEL)\n",
    "    test_labels = test_df_upd.pop(LABEL)\n",
    "    norm_train = standard_scalar_normalization(train_df_upd, train_stats_upd)\n",
    "    norm_test = standard_scalar_normalization(test_df_upd, train_stats_upd)\n",
    "\n",
    "    mlp = model\n",
    "    mlp.fit(norm_train, train_labels)\n",
    "    pred = mlp.predict(norm_test)\n",
    "    acc = GetAccuracy(test_labels, pred, False)\n",
    "    print(f\"Testing Accuracy for MLP = {acc}\")\n",
    "    return acc\n",
    "\n",
    "    \n",
    "def sfs(model, pd_data):\n",
    "    '''\n",
    "    # takes data frame and model as input\n",
    "    # and then returns the dataframe with the optimal attributes\n",
    "    '''\n",
    "    # Record the name of the column that contains the instance IDs and the class\n",
    "    no_of_columns = len(pd_data.columns) # number of columns\n",
    "    class_column_index = 0\n",
    "    class_column_colname = pd_data.columns[class_column_index]\n",
    " \n",
    "    # Record the number of available attributes\n",
    "    no_of_available_attributes = no_of_columns - 1\n",
    " \n",
    "    # Create a dataframe containing the available attributes by removing\n",
    "    # the Instance and the Class Column\n",
    "    available_attributes_df = pd_data.drop(columns = [class_column_colname]) \n",
    " \n",
    "    # Create an empty optimal attribute dataframe containing only the\n",
    "    # Instance and the Class Columns\n",
    "    optimal_attributes_df = pd_data[[class_column_colname]]\n",
    " \n",
    "    # Set the base performance to a really low number\n",
    "    base_performance = -9999.0\n",
    " \n",
    "    # Check whether adding a new attribute to the optimal attributes dataframe\n",
    "    # improves performance\n",
    "    # While there are still available attributes left\n",
    "    while no_of_available_attributes > 0: \n",
    "        # Set the best performance to a low number\n",
    "        best_performance = -9999.0\n",
    " \n",
    "        # Initialize the best attribute variable to a placeholder\n",
    "        best_attribute = \"Placeholder\"\n",
    " \n",
    "        # For all attributes in the available attribute data frame\n",
    "        for col in range(0, len(available_attributes_df.columns)):\n",
    " \n",
    "            # Record the name of this attribute\n",
    "            this_attr = available_attributes_df.columns[col]\n",
    "         \n",
    "            # Create a new dataframe with this attribute inserted\n",
    "            temp_opt_attr_df = optimal_attributes_df.copy()\n",
    "            temp_opt_attr_df.insert(loc=1,column=this_attr,value=(available_attributes_df[this_attr]))\n",
    " \n",
    "            # Run Naive Bayes on this new dataframe and return the \n",
    "            # classification accuracy\n",
    "            current_performance = modelEvaluation(model, temp_opt_attr_df)\n",
    " \n",
    "            # Find the new attribute that yielded the greatest\n",
    "            # classification accuracy\n",
    "            if current_performance > best_performance:\n",
    "                best_performance = current_performance\n",
    "                best_attribute = this_attr\n",
    " \n",
    "        # Did adding another feature lead to improvement?\n",
    "        if best_performance > base_performance:\n",
    "            base_performance = best_performance\n",
    " \n",
    "            # Add the best attribute to the optimal attribute data frame\n",
    "            optimal_attributes_df.insert(\n",
    "                loc=1,column=best_attribute,value=(\n",
    "                available_attributes_df[best_attribute]))\n",
    " \n",
    "            # Remove the best attribute from the available attribute data frame\n",
    "            available_attributes_df = available_attributes_df.drop(\n",
    "                columns = [best_attribute]) \n",
    " \n",
    "            # Print the best attribute to the console\n",
    "            print()\n",
    "            print(str(best_attribute) + \" added to the optimal attribute subset\")\n",
    "            print()\n",
    "            \n",
    "            # Decrement the number of available attributes by 1\n",
    "            no_of_available_attributes -= 1\n",
    " \n",
    "            # Print number of attributes remaining to the console\n",
    "            print()\n",
    "            print(str(no_of_available_attributes) + \" attributes remaining\")\n",
    "            print()\n",
    "            print()\n",
    "        else:\n",
    "            print()\n",
    "            print(\"Performance did not improve this round.\")\n",
    "            print(\"End of Stepwise Forward Selection.\")\n",
    "            print()\n",
    "            break\n",
    " \n",
    "    # Return the optimal attribute set\n",
    "    return optimal_attributes_df"
   ]
  },
  {
   "cell_type": "code",
   "execution_count": 168,
   "metadata": {},
   "outputs": [
    {
     "name": "stderr",
     "output_type": "stream",
     "text": [
      "e:\\Books\\ML\\Assignments\\PA-2\\venv\\lib\\site-packages\\sklearn\\neural_network\\_multilayer_perceptron.py:612: UserWarning: Got `batch_size` less than 1 or larger than sample size. It is going to be clipped\n",
      "  \"Got `batch_size` less than 1 or larger than \"\n",
      "e:\\Books\\ML\\Assignments\\PA-2\\venv\\lib\\site-packages\\sklearn\\neural_network\\_multilayer_perceptron.py:612: UserWarning: Got `batch_size` less than 1 or larger than sample size. It is going to be clipped\n",
      "  \"Got `batch_size` less than 1 or larger than \"\n"
     ]
    },
    {
     "name": "stdout",
     "output_type": "stream",
     "text": [
      "Testing Accuracy for MLP = 0.42857142857142855\n"
     ]
    },
    {
     "name": "stderr",
     "output_type": "stream",
     "text": [
      "e:\\Books\\ML\\Assignments\\PA-2\\venv\\lib\\site-packages\\sklearn\\neural_network\\_multilayer_perceptron.py:696: ConvergenceWarning: Stochastic Optimizer: Maximum iterations (200) reached and the optimization hasn't converged yet.\n",
      "  ConvergenceWarning,\n",
      "e:\\Books\\ML\\Assignments\\PA-2\\venv\\lib\\site-packages\\sklearn\\neural_network\\_multilayer_perceptron.py:612: UserWarning: Got `batch_size` less than 1 or larger than sample size. It is going to be clipped\n",
      "  \"Got `batch_size` less than 1 or larger than \"\n",
      "e:\\Books\\ML\\Assignments\\PA-2\\venv\\lib\\site-packages\\sklearn\\neural_network\\_multilayer_perceptron.py:612: UserWarning: Got `batch_size` less than 1 or larger than sample size. It is going to be clipped\n",
      "  \"Got `batch_size` less than 1 or larger than \"\n"
     ]
    },
    {
     "name": "stdout",
     "output_type": "stream",
     "text": [
      "Testing Accuracy for MLP = 0.42857142857142855\n",
      "Testing Accuracy for MLP = 0.5714285714285714\n",
      "Testing Accuracy for MLP = 0.42857142857142855\n",
      "Testing Accuracy for MLP = 0.42857142857142855\n"
     ]
    },
    {
     "name": "stderr",
     "output_type": "stream",
     "text": [
      "e:\\Books\\ML\\Assignments\\PA-2\\venv\\lib\\site-packages\\sklearn\\neural_network\\_multilayer_perceptron.py:612: UserWarning: Got `batch_size` less than 1 or larger than sample size. It is going to be clipped\n",
      "  \"Got `batch_size` less than 1 or larger than \"\n",
      "e:\\Books\\ML\\Assignments\\PA-2\\venv\\lib\\site-packages\\sklearn\\neural_network\\_multilayer_perceptron.py:612: UserWarning: Got `batch_size` less than 1 or larger than sample size. It is going to be clipped\n",
      "  \"Got `batch_size` less than 1 or larger than \"\n",
      "e:\\Books\\ML\\Assignments\\PA-2\\venv\\lib\\site-packages\\sklearn\\neural_network\\_multilayer_perceptron.py:696: ConvergenceWarning: Stochastic Optimizer: Maximum iterations (200) reached and the optimization hasn't converged yet.\n",
      "  ConvergenceWarning,\n",
      "e:\\Books\\ML\\Assignments\\PA-2\\venv\\lib\\site-packages\\sklearn\\neural_network\\_multilayer_perceptron.py:612: UserWarning: Got `batch_size` less than 1 or larger than sample size. It is going to be clipped\n",
      "  \"Got `batch_size` less than 1 or larger than \"\n",
      "e:\\Books\\ML\\Assignments\\PA-2\\venv\\lib\\site-packages\\sklearn\\neural_network\\_multilayer_perceptron.py:696: ConvergenceWarning: Stochastic Optimizer: Maximum iterations (200) reached and the optimization hasn't converged yet.\n",
      "  ConvergenceWarning,\n"
     ]
    },
    {
     "name": "stdout",
     "output_type": "stream",
     "text": [
      "Testing Accuracy for MLP = 0.42857142857142855\n",
      "Testing Accuracy for MLP = 0.42857142857142855\n"
     ]
    },
    {
     "name": "stderr",
     "output_type": "stream",
     "text": [
      "e:\\Books\\ML\\Assignments\\PA-2\\venv\\lib\\site-packages\\sklearn\\neural_network\\_multilayer_perceptron.py:612: UserWarning: Got `batch_size` less than 1 or larger than sample size. It is going to be clipped\n",
      "  \"Got `batch_size` less than 1 or larger than \"\n",
      "e:\\Books\\ML\\Assignments\\PA-2\\venv\\lib\\site-packages\\sklearn\\neural_network\\_multilayer_perceptron.py:696: ConvergenceWarning: Stochastic Optimizer: Maximum iterations (200) reached and the optimization hasn't converged yet.\n",
      "  ConvergenceWarning,\n"
     ]
    },
    {
     "name": "stdout",
     "output_type": "stream",
     "text": [
      "Testing Accuracy for MLP = 0.5714285714285714\n",
      "Testing Accuracy for MLP = 0.42857142857142855\n"
     ]
    },
    {
     "name": "stderr",
     "output_type": "stream",
     "text": [
      "e:\\Books\\ML\\Assignments\\PA-2\\venv\\lib\\site-packages\\sklearn\\neural_network\\_multilayer_perceptron.py:612: UserWarning: Got `batch_size` less than 1 or larger than sample size. It is going to be clipped\n",
      "  \"Got `batch_size` less than 1 or larger than \"\n",
      "e:\\Books\\ML\\Assignments\\PA-2\\venv\\lib\\site-packages\\sklearn\\neural_network\\_multilayer_perceptron.py:612: UserWarning: Got `batch_size` less than 1 or larger than sample size. It is going to be clipped\n",
      "  \"Got `batch_size` less than 1 or larger than \"\n",
      "e:\\Books\\ML\\Assignments\\PA-2\\venv\\lib\\site-packages\\sklearn\\neural_network\\_multilayer_perceptron.py:696: ConvergenceWarning: Stochastic Optimizer: Maximum iterations (200) reached and the optimization hasn't converged yet.\n",
      "  ConvergenceWarning,\n",
      "e:\\Books\\ML\\Assignments\\PA-2\\venv\\lib\\site-packages\\sklearn\\neural_network\\_multilayer_perceptron.py:612: UserWarning: Got `batch_size` less than 1 or larger than sample size. It is going to be clipped\n",
      "  \"Got `batch_size` less than 1 or larger than \"\n"
     ]
    },
    {
     "name": "stdout",
     "output_type": "stream",
     "text": [
      "Testing Accuracy for MLP = 0.42857142857142855\n",
      "Testing Accuracy for MLP = 0.42857142857142855\n"
     ]
    },
    {
     "name": "stderr",
     "output_type": "stream",
     "text": [
      "e:\\Books\\ML\\Assignments\\PA-2\\venv\\lib\\site-packages\\sklearn\\neural_network\\_multilayer_perceptron.py:612: UserWarning: Got `batch_size` less than 1 or larger than sample size. It is going to be clipped\n",
      "  \"Got `batch_size` less than 1 or larger than \"\n"
     ]
    },
    {
     "name": "stdout",
     "output_type": "stream",
     "text": [
      "Testing Accuracy for MLP = 0.2857142857142857\n",
      "Testing Accuracy for MLP = 0.2857142857142857\n"
     ]
    },
    {
     "name": "stderr",
     "output_type": "stream",
     "text": [
      "e:\\Books\\ML\\Assignments\\PA-2\\venv\\lib\\site-packages\\sklearn\\neural_network\\_multilayer_perceptron.py:612: UserWarning: Got `batch_size` less than 1 or larger than sample size. It is going to be clipped\n",
      "  \"Got `batch_size` less than 1 or larger than \"\n",
      "e:\\Books\\ML\\Assignments\\PA-2\\venv\\lib\\site-packages\\sklearn\\neural_network\\_multilayer_perceptron.py:696: ConvergenceWarning: Stochastic Optimizer: Maximum iterations (200) reached and the optimization hasn't converged yet.\n",
      "  ConvergenceWarning,\n",
      "e:\\Books\\ML\\Assignments\\PA-2\\venv\\lib\\site-packages\\sklearn\\neural_network\\_multilayer_perceptron.py:612: UserWarning: Got `batch_size` less than 1 or larger than sample size. It is going to be clipped\n",
      "  \"Got `batch_size` less than 1 or larger than \"\n",
      "e:\\Books\\ML\\Assignments\\PA-2\\venv\\lib\\site-packages\\sklearn\\neural_network\\_multilayer_perceptron.py:696: ConvergenceWarning: Stochastic Optimizer: Maximum iterations (200) reached and the optimization hasn't converged yet.\n",
      "  ConvergenceWarning,\n"
     ]
    },
    {
     "name": "stdout",
     "output_type": "stream",
     "text": [
      "Testing Accuracy for MLP = 0.2857142857142857\n"
     ]
    },
    {
     "name": "stderr",
     "output_type": "stream",
     "text": [
      "e:\\Books\\ML\\Assignments\\PA-2\\venv\\lib\\site-packages\\sklearn\\neural_network\\_multilayer_perceptron.py:612: UserWarning: Got `batch_size` less than 1 or larger than sample size. It is going to be clipped\n",
      "  \"Got `batch_size` less than 1 or larger than \"\n",
      "e:\\Books\\ML\\Assignments\\PA-2\\venv\\lib\\site-packages\\sklearn\\neural_network\\_multilayer_perceptron.py:696: ConvergenceWarning: Stochastic Optimizer: Maximum iterations (200) reached and the optimization hasn't converged yet.\n",
      "  ConvergenceWarning,\n",
      "e:\\Books\\ML\\Assignments\\PA-2\\venv\\lib\\site-packages\\sklearn\\neural_network\\_multilayer_perceptron.py:612: UserWarning: Got `batch_size` less than 1 or larger than sample size. It is going to be clipped\n",
      "  \"Got `batch_size` less than 1 or larger than \"\n",
      "e:\\Books\\ML\\Assignments\\PA-2\\venv\\lib\\site-packages\\sklearn\\neural_network\\_multilayer_perceptron.py:612: UserWarning: Got `batch_size` less than 1 or larger than sample size. It is going to be clipped\n",
      "  \"Got `batch_size` less than 1 or larger than \"\n"
     ]
    },
    {
     "name": "stdout",
     "output_type": "stream",
     "text": [
      "Testing Accuracy for MLP = 0.42857142857142855\n",
      "Testing Accuracy for MLP = 0.42857142857142855\n"
     ]
    },
    {
     "name": "stderr",
     "output_type": "stream",
     "text": [
      "e:\\Books\\ML\\Assignments\\PA-2\\venv\\lib\\site-packages\\sklearn\\neural_network\\_multilayer_perceptron.py:696: ConvergenceWarning: Stochastic Optimizer: Maximum iterations (200) reached and the optimization hasn't converged yet.\n",
      "  ConvergenceWarning,\n",
      "e:\\Books\\ML\\Assignments\\PA-2\\venv\\lib\\site-packages\\sklearn\\neural_network\\_multilayer_perceptron.py:612: UserWarning: Got `batch_size` less than 1 or larger than sample size. It is going to be clipped\n",
      "  \"Got `batch_size` less than 1 or larger than \"\n",
      "e:\\Books\\ML\\Assignments\\PA-2\\venv\\lib\\site-packages\\sklearn\\neural_network\\_multilayer_perceptron.py:612: UserWarning: Got `batch_size` less than 1 or larger than sample size. It is going to be clipped\n",
      "  \"Got `batch_size` less than 1 or larger than \"\n"
     ]
    },
    {
     "name": "stdout",
     "output_type": "stream",
     "text": [
      "Testing Accuracy for MLP = 0.5714285714285714\n",
      "Testing Accuracy for MLP = 0.42857142857142855\n"
     ]
    },
    {
     "name": "stderr",
     "output_type": "stream",
     "text": [
      "e:\\Books\\ML\\Assignments\\PA-2\\venv\\lib\\site-packages\\sklearn\\neural_network\\_multilayer_perceptron.py:696: ConvergenceWarning: Stochastic Optimizer: Maximum iterations (200) reached and the optimization hasn't converged yet.\n",
      "  ConvergenceWarning,\n",
      "e:\\Books\\ML\\Assignments\\PA-2\\venv\\lib\\site-packages\\sklearn\\neural_network\\_multilayer_perceptron.py:612: UserWarning: Got `batch_size` less than 1 or larger than sample size. It is going to be clipped\n",
      "  \"Got `batch_size` less than 1 or larger than \"\n",
      "e:\\Books\\ML\\Assignments\\PA-2\\venv\\lib\\site-packages\\sklearn\\neural_network\\_multilayer_perceptron.py:696: ConvergenceWarning: Stochastic Optimizer: Maximum iterations (200) reached and the optimization hasn't converged yet.\n",
      "  ConvergenceWarning,\n"
     ]
    },
    {
     "name": "stdout",
     "output_type": "stream",
     "text": [
      "Testing Accuracy for MLP = 0.5714285714285714\n",
      "Testing Accuracy for MLP = 0.42857142857142855\n"
     ]
    },
    {
     "name": "stderr",
     "output_type": "stream",
     "text": [
      "e:\\Books\\ML\\Assignments\\PA-2\\venv\\lib\\site-packages\\sklearn\\neural_network\\_multilayer_perceptron.py:612: UserWarning: Got `batch_size` less than 1 or larger than sample size. It is going to be clipped\n",
      "  \"Got `batch_size` less than 1 or larger than \"\n",
      "e:\\Books\\ML\\Assignments\\PA-2\\venv\\lib\\site-packages\\sklearn\\neural_network\\_multilayer_perceptron.py:612: UserWarning: Got `batch_size` less than 1 or larger than sample size. It is going to be clipped\n",
      "  \"Got `batch_size` less than 1 or larger than \"\n"
     ]
    },
    {
     "name": "stdout",
     "output_type": "stream",
     "text": [
      "Testing Accuracy for MLP = 0.42857142857142855\n",
      "Testing Accuracy for MLP = 0.42857142857142855\n"
     ]
    },
    {
     "name": "stderr",
     "output_type": "stream",
     "text": [
      "e:\\Books\\ML\\Assignments\\PA-2\\venv\\lib\\site-packages\\sklearn\\neural_network\\_multilayer_perceptron.py:612: UserWarning: Got `batch_size` less than 1 or larger than sample size. It is going to be clipped\n",
      "  \"Got `batch_size` less than 1 or larger than \"\n",
      "e:\\Books\\ML\\Assignments\\PA-2\\venv\\lib\\site-packages\\sklearn\\neural_network\\_multilayer_perceptron.py:696: ConvergenceWarning: Stochastic Optimizer: Maximum iterations (200) reached and the optimization hasn't converged yet.\n",
      "  ConvergenceWarning,\n",
      "e:\\Books\\ML\\Assignments\\PA-2\\venv\\lib\\site-packages\\sklearn\\neural_network\\_multilayer_perceptron.py:612: UserWarning: Got `batch_size` less than 1 or larger than sample size. It is going to be clipped\n",
      "  \"Got `batch_size` less than 1 or larger than \"\n",
      "e:\\Books\\ML\\Assignments\\PA-2\\venv\\lib\\site-packages\\sklearn\\neural_network\\_multilayer_perceptron.py:612: UserWarning: Got `batch_size` less than 1 or larger than sample size. It is going to be clipped\n",
      "  \"Got `batch_size` less than 1 or larger than \"\n"
     ]
    },
    {
     "name": "stdout",
     "output_type": "stream",
     "text": [
      "Testing Accuracy for MLP = 0.42857142857142855\n",
      "Testing Accuracy for MLP = 0.42857142857142855\n",
      "Testing Accuracy for MLP = 0.42857142857142855\n"
     ]
    },
    {
     "name": "stderr",
     "output_type": "stream",
     "text": [
      "e:\\Books\\ML\\Assignments\\PA-2\\venv\\lib\\site-packages\\sklearn\\neural_network\\_multilayer_perceptron.py:612: UserWarning: Got `batch_size` less than 1 or larger than sample size. It is going to be clipped\n",
      "  \"Got `batch_size` less than 1 or larger than \"\n",
      "e:\\Books\\ML\\Assignments\\PA-2\\venv\\lib\\site-packages\\sklearn\\neural_network\\_multilayer_perceptron.py:696: ConvergenceWarning: Stochastic Optimizer: Maximum iterations (200) reached and the optimization hasn't converged yet.\n",
      "  ConvergenceWarning,\n"
     ]
    },
    {
     "name": "stdout",
     "output_type": "stream",
     "text": [
      "Testing Accuracy for MLP = 0.14285714285714285\n",
      "Testing Accuracy for MLP = 0.2857142857142857\n"
     ]
    },
    {
     "name": "stderr",
     "output_type": "stream",
     "text": [
      "e:\\Books\\ML\\Assignments\\PA-2\\venv\\lib\\site-packages\\sklearn\\neural_network\\_multilayer_perceptron.py:612: UserWarning: Got `batch_size` less than 1 or larger than sample size. It is going to be clipped\n",
      "  \"Got `batch_size` less than 1 or larger than \"\n",
      "e:\\Books\\ML\\Assignments\\PA-2\\venv\\lib\\site-packages\\sklearn\\neural_network\\_multilayer_perceptron.py:696: ConvergenceWarning: Stochastic Optimizer: Maximum iterations (200) reached and the optimization hasn't converged yet.\n",
      "  ConvergenceWarning,\n",
      "e:\\Books\\ML\\Assignments\\PA-2\\venv\\lib\\site-packages\\sklearn\\neural_network\\_multilayer_perceptron.py:612: UserWarning: Got `batch_size` less than 1 or larger than sample size. It is going to be clipped\n",
      "  \"Got `batch_size` less than 1 or larger than \"\n",
      "e:\\Books\\ML\\Assignments\\PA-2\\venv\\lib\\site-packages\\sklearn\\neural_network\\_multilayer_perceptron.py:696: ConvergenceWarning: Stochastic Optimizer: Maximum iterations (200) reached and the optimization hasn't converged yet.\n",
      "  ConvergenceWarning,\n"
     ]
    },
    {
     "name": "stdout",
     "output_type": "stream",
     "text": [
      "Testing Accuracy for MLP = 0.42857142857142855\n",
      "Testing Accuracy for MLP = 0.42857142857142855\n"
     ]
    },
    {
     "name": "stderr",
     "output_type": "stream",
     "text": [
      "e:\\Books\\ML\\Assignments\\PA-2\\venv\\lib\\site-packages\\sklearn\\neural_network\\_multilayer_perceptron.py:612: UserWarning: Got `batch_size` less than 1 or larger than sample size. It is going to be clipped\n",
      "  \"Got `batch_size` less than 1 or larger than \"\n",
      "e:\\Books\\ML\\Assignments\\PA-2\\venv\\lib\\site-packages\\sklearn\\neural_network\\_multilayer_perceptron.py:696: ConvergenceWarning: Stochastic Optimizer: Maximum iterations (200) reached and the optimization hasn't converged yet.\n",
      "  ConvergenceWarning,\n",
      "e:\\Books\\ML\\Assignments\\PA-2\\venv\\lib\\site-packages\\sklearn\\neural_network\\_multilayer_perceptron.py:612: UserWarning: Got `batch_size` less than 1 or larger than sample size. It is going to be clipped\n",
      "  \"Got `batch_size` less than 1 or larger than \"\n",
      "e:\\Books\\ML\\Assignments\\PA-2\\venv\\lib\\site-packages\\sklearn\\neural_network\\_multilayer_perceptron.py:612: UserWarning: Got `batch_size` less than 1 or larger than sample size. It is going to be clipped\n",
      "  \"Got `batch_size` less than 1 or larger than \"\n"
     ]
    },
    {
     "name": "stdout",
     "output_type": "stream",
     "text": [
      "Testing Accuracy for MLP = 0.42857142857142855\n",
      "Testing Accuracy for MLP = 0.14285714285714285\n"
     ]
    },
    {
     "name": "stderr",
     "output_type": "stream",
     "text": [
      "e:\\Books\\ML\\Assignments\\PA-2\\venv\\lib\\site-packages\\sklearn\\neural_network\\_multilayer_perceptron.py:612: UserWarning: Got `batch_size` less than 1 or larger than sample size. It is going to be clipped\n",
      "  \"Got `batch_size` less than 1 or larger than \"\n",
      "e:\\Books\\ML\\Assignments\\PA-2\\venv\\lib\\site-packages\\sklearn\\neural_network\\_multilayer_perceptron.py:612: UserWarning: Got `batch_size` less than 1 or larger than sample size. It is going to be clipped\n",
      "  \"Got `batch_size` less than 1 or larger than \"\n"
     ]
    },
    {
     "name": "stdout",
     "output_type": "stream",
     "text": [
      "Testing Accuracy for MLP = 0.42857142857142855\n"
     ]
    },
    {
     "name": "stderr",
     "output_type": "stream",
     "text": [
      "e:\\Books\\ML\\Assignments\\PA-2\\venv\\lib\\site-packages\\sklearn\\neural_network\\_multilayer_perceptron.py:696: ConvergenceWarning: Stochastic Optimizer: Maximum iterations (200) reached and the optimization hasn't converged yet.\n",
      "  ConvergenceWarning,\n",
      "e:\\Books\\ML\\Assignments\\PA-2\\venv\\lib\\site-packages\\sklearn\\neural_network\\_multilayer_perceptron.py:612: UserWarning: Got `batch_size` less than 1 or larger than sample size. It is going to be clipped\n",
      "  \"Got `batch_size` less than 1 or larger than \"\n",
      "e:\\Books\\ML\\Assignments\\PA-2\\venv\\lib\\site-packages\\sklearn\\neural_network\\_multilayer_perceptron.py:696: ConvergenceWarning: Stochastic Optimizer: Maximum iterations (200) reached and the optimization hasn't converged yet.\n",
      "  ConvergenceWarning,\n",
      "e:\\Books\\ML\\Assignments\\PA-2\\venv\\lib\\site-packages\\sklearn\\neural_network\\_multilayer_perceptron.py:612: UserWarning: Got `batch_size` less than 1 or larger than sample size. It is going to be clipped\n",
      "  \"Got `batch_size` less than 1 or larger than \"\n"
     ]
    },
    {
     "name": "stdout",
     "output_type": "stream",
     "text": [
      "Testing Accuracy for MLP = 0.42857142857142855\n",
      "Testing Accuracy for MLP = 0.2857142857142857\n"
     ]
    },
    {
     "name": "stderr",
     "output_type": "stream",
     "text": [
      "e:\\Books\\ML\\Assignments\\PA-2\\venv\\lib\\site-packages\\sklearn\\neural_network\\_multilayer_perceptron.py:696: ConvergenceWarning: Stochastic Optimizer: Maximum iterations (200) reached and the optimization hasn't converged yet.\n",
      "  ConvergenceWarning,\n",
      "e:\\Books\\ML\\Assignments\\PA-2\\venv\\lib\\site-packages\\sklearn\\neural_network\\_multilayer_perceptron.py:612: UserWarning: Got `batch_size` less than 1 or larger than sample size. It is going to be clipped\n",
      "  \"Got `batch_size` less than 1 or larger than \"\n",
      "e:\\Books\\ML\\Assignments\\PA-2\\venv\\lib\\site-packages\\sklearn\\neural_network\\_multilayer_perceptron.py:612: UserWarning: Got `batch_size` less than 1 or larger than sample size. It is going to be clipped\n",
      "  \"Got `batch_size` less than 1 or larger than \"\n"
     ]
    },
    {
     "name": "stdout",
     "output_type": "stream",
     "text": [
      "Testing Accuracy for MLP = 0.42857142857142855\n",
      "Testing Accuracy for MLP = 0.42857142857142855\n"
     ]
    },
    {
     "name": "stderr",
     "output_type": "stream",
     "text": [
      "e:\\Books\\ML\\Assignments\\PA-2\\venv\\lib\\site-packages\\sklearn\\neural_network\\_multilayer_perceptron.py:696: ConvergenceWarning: Stochastic Optimizer: Maximum iterations (200) reached and the optimization hasn't converged yet.\n",
      "  ConvergenceWarning,\n",
      "e:\\Books\\ML\\Assignments\\PA-2\\venv\\lib\\site-packages\\sklearn\\neural_network\\_multilayer_perceptron.py:612: UserWarning: Got `batch_size` less than 1 or larger than sample size. It is going to be clipped\n",
      "  \"Got `batch_size` less than 1 or larger than \"\n",
      "e:\\Books\\ML\\Assignments\\PA-2\\venv\\lib\\site-packages\\sklearn\\neural_network\\_multilayer_perceptron.py:612: UserWarning: Got `batch_size` less than 1 or larger than sample size. It is going to be clipped\n",
      "  \"Got `batch_size` less than 1 or larger than \"\n"
     ]
    },
    {
     "name": "stdout",
     "output_type": "stream",
     "text": [
      "Testing Accuracy for MLP = 0.7142857142857143\n",
      "Testing Accuracy for MLP = 0.42857142857142855\n"
     ]
    },
    {
     "name": "stderr",
     "output_type": "stream",
     "text": [
      "e:\\Books\\ML\\Assignments\\PA-2\\venv\\lib\\site-packages\\sklearn\\neural_network\\_multilayer_perceptron.py:696: ConvergenceWarning: Stochastic Optimizer: Maximum iterations (200) reached and the optimization hasn't converged yet.\n",
      "  ConvergenceWarning,\n",
      "e:\\Books\\ML\\Assignments\\PA-2\\venv\\lib\\site-packages\\sklearn\\neural_network\\_multilayer_perceptron.py:612: UserWarning: Got `batch_size` less than 1 or larger than sample size. It is going to be clipped\n",
      "  \"Got `batch_size` less than 1 or larger than \"\n",
      "e:\\Books\\ML\\Assignments\\PA-2\\venv\\lib\\site-packages\\sklearn\\neural_network\\_multilayer_perceptron.py:696: ConvergenceWarning: Stochastic Optimizer: Maximum iterations (200) reached and the optimization hasn't converged yet.\n",
      "  ConvergenceWarning,\n"
     ]
    },
    {
     "name": "stdout",
     "output_type": "stream",
     "text": [
      "Testing Accuracy for MLP = 0.2857142857142857\n",
      "Testing Accuracy for MLP = 0.5714285714285714\n"
     ]
    },
    {
     "name": "stderr",
     "output_type": "stream",
     "text": [
      "e:\\Books\\ML\\Assignments\\PA-2\\venv\\lib\\site-packages\\sklearn\\neural_network\\_multilayer_perceptron.py:612: UserWarning: Got `batch_size` less than 1 or larger than sample size. It is going to be clipped\n",
      "  \"Got `batch_size` less than 1 or larger than \"\n",
      "e:\\Books\\ML\\Assignments\\PA-2\\venv\\lib\\site-packages\\sklearn\\neural_network\\_multilayer_perceptron.py:696: ConvergenceWarning: Stochastic Optimizer: Maximum iterations (200) reached and the optimization hasn't converged yet.\n",
      "  ConvergenceWarning,\n",
      "e:\\Books\\ML\\Assignments\\PA-2\\venv\\lib\\site-packages\\sklearn\\neural_network\\_multilayer_perceptron.py:612: UserWarning: Got `batch_size` less than 1 or larger than sample size. It is going to be clipped\n",
      "  \"Got `batch_size` less than 1 or larger than \"\n"
     ]
    },
    {
     "name": "stdout",
     "output_type": "stream",
     "text": [
      "Testing Accuracy for MLP = 0.42857142857142855\n",
      "Testing Accuracy for MLP = 0.2857142857142857\n"
     ]
    },
    {
     "name": "stderr",
     "output_type": "stream",
     "text": [
      "e:\\Books\\ML\\Assignments\\PA-2\\venv\\lib\\site-packages\\sklearn\\neural_network\\_multilayer_perceptron.py:696: ConvergenceWarning: Stochastic Optimizer: Maximum iterations (200) reached and the optimization hasn't converged yet.\n",
      "  ConvergenceWarning,\n",
      "e:\\Books\\ML\\Assignments\\PA-2\\venv\\lib\\site-packages\\sklearn\\neural_network\\_multilayer_perceptron.py:612: UserWarning: Got `batch_size` less than 1 or larger than sample size. It is going to be clipped\n",
      "  \"Got `batch_size` less than 1 or larger than \"\n",
      "e:\\Books\\ML\\Assignments\\PA-2\\venv\\lib\\site-packages\\sklearn\\neural_network\\_multilayer_perceptron.py:696: ConvergenceWarning: Stochastic Optimizer: Maximum iterations (200) reached and the optimization hasn't converged yet.\n",
      "  ConvergenceWarning,\n"
     ]
    },
    {
     "name": "stdout",
     "output_type": "stream",
     "text": [
      "Testing Accuracy for MLP = 0.42857142857142855\n"
     ]
    },
    {
     "name": "stderr",
     "output_type": "stream",
     "text": [
      "e:\\Books\\ML\\Assignments\\PA-2\\venv\\lib\\site-packages\\sklearn\\neural_network\\_multilayer_perceptron.py:612: UserWarning: Got `batch_size` less than 1 or larger than sample size. It is going to be clipped\n",
      "  \"Got `batch_size` less than 1 or larger than \"\n",
      "e:\\Books\\ML\\Assignments\\PA-2\\venv\\lib\\site-packages\\sklearn\\neural_network\\_multilayer_perceptron.py:696: ConvergenceWarning: Stochastic Optimizer: Maximum iterations (200) reached and the optimization hasn't converged yet.\n",
      "  ConvergenceWarning,\n",
      "e:\\Books\\ML\\Assignments\\PA-2\\venv\\lib\\site-packages\\sklearn\\neural_network\\_multilayer_perceptron.py:612: UserWarning: Got `batch_size` less than 1 or larger than sample size. It is going to be clipped\n",
      "  \"Got `batch_size` less than 1 or larger than \"\n"
     ]
    },
    {
     "name": "stdout",
     "output_type": "stream",
     "text": [
      "Testing Accuracy for MLP = 0.14285714285714285\n"
     ]
    },
    {
     "name": "stderr",
     "output_type": "stream",
     "text": [
      "e:\\Books\\ML\\Assignments\\PA-2\\venv\\lib\\site-packages\\sklearn\\neural_network\\_multilayer_perceptron.py:696: ConvergenceWarning: Stochastic Optimizer: Maximum iterations (200) reached and the optimization hasn't converged yet.\n",
      "  ConvergenceWarning,\n",
      "e:\\Books\\ML\\Assignments\\PA-2\\venv\\lib\\site-packages\\sklearn\\neural_network\\_multilayer_perceptron.py:612: UserWarning: Got `batch_size` less than 1 or larger than sample size. It is going to be clipped\n",
      "  \"Got `batch_size` less than 1 or larger than \"\n",
      "e:\\Books\\ML\\Assignments\\PA-2\\venv\\lib\\site-packages\\sklearn\\neural_network\\_multilayer_perceptron.py:696: ConvergenceWarning: Stochastic Optimizer: Maximum iterations (200) reached and the optimization hasn't converged yet.\n",
      "  ConvergenceWarning,\n"
     ]
    },
    {
     "name": "stdout",
     "output_type": "stream",
     "text": [
      "Testing Accuracy for MLP = 0.42857142857142855\n",
      "Testing Accuracy for MLP = 0.5714285714285714\n"
     ]
    },
    {
     "name": "stderr",
     "output_type": "stream",
     "text": [
      "e:\\Books\\ML\\Assignments\\PA-2\\venv\\lib\\site-packages\\sklearn\\neural_network\\_multilayer_perceptron.py:612: UserWarning: Got `batch_size` less than 1 or larger than sample size. It is going to be clipped\n",
      "  \"Got `batch_size` less than 1 or larger than \"\n",
      "e:\\Books\\ML\\Assignments\\PA-2\\venv\\lib\\site-packages\\sklearn\\neural_network\\_multilayer_perceptron.py:696: ConvergenceWarning: Stochastic Optimizer: Maximum iterations (200) reached and the optimization hasn't converged yet.\n",
      "  ConvergenceWarning,\n",
      "e:\\Books\\ML\\Assignments\\PA-2\\venv\\lib\\site-packages\\sklearn\\neural_network\\_multilayer_perceptron.py:612: UserWarning: Got `batch_size` less than 1 or larger than sample size. It is going to be clipped\n",
      "  \"Got `batch_size` less than 1 or larger than \"\n"
     ]
    },
    {
     "name": "stdout",
     "output_type": "stream",
     "text": [
      "Testing Accuracy for MLP = 0.42857142857142855\n"
     ]
    },
    {
     "name": "stderr",
     "output_type": "stream",
     "text": [
      "e:\\Books\\ML\\Assignments\\PA-2\\venv\\lib\\site-packages\\sklearn\\neural_network\\_multilayer_perceptron.py:696: ConvergenceWarning: Stochastic Optimizer: Maximum iterations (200) reached and the optimization hasn't converged yet.\n",
      "  ConvergenceWarning,\n",
      "e:\\Books\\ML\\Assignments\\PA-2\\venv\\lib\\site-packages\\sklearn\\neural_network\\_multilayer_perceptron.py:612: UserWarning: Got `batch_size` less than 1 or larger than sample size. It is going to be clipped\n",
      "  \"Got `batch_size` less than 1 or larger than \"\n",
      "e:\\Books\\ML\\Assignments\\PA-2\\venv\\lib\\site-packages\\sklearn\\neural_network\\_multilayer_perceptron.py:696: ConvergenceWarning: Stochastic Optimizer: Maximum iterations (200) reached and the optimization hasn't converged yet.\n",
      "  ConvergenceWarning,\n"
     ]
    },
    {
     "name": "stdout",
     "output_type": "stream",
     "text": [
      "Testing Accuracy for MLP = 0.42857142857142855\n",
      "Testing Accuracy for MLP = 0.42857142857142855\n"
     ]
    },
    {
     "name": "stderr",
     "output_type": "stream",
     "text": [
      "e:\\Books\\ML\\Assignments\\PA-2\\venv\\lib\\site-packages\\sklearn\\neural_network\\_multilayer_perceptron.py:612: UserWarning: Got `batch_size` less than 1 or larger than sample size. It is going to be clipped\n",
      "  \"Got `batch_size` less than 1 or larger than \"\n",
      "e:\\Books\\ML\\Assignments\\PA-2\\venv\\lib\\site-packages\\sklearn\\neural_network\\_multilayer_perceptron.py:696: ConvergenceWarning: Stochastic Optimizer: Maximum iterations (200) reached and the optimization hasn't converged yet.\n",
      "  ConvergenceWarning,\n",
      "e:\\Books\\ML\\Assignments\\PA-2\\venv\\lib\\site-packages\\sklearn\\neural_network\\_multilayer_perceptron.py:612: UserWarning: Got `batch_size` less than 1 or larger than sample size. It is going to be clipped\n",
      "  \"Got `batch_size` less than 1 or larger than \"\n"
     ]
    },
    {
     "name": "stdout",
     "output_type": "stream",
     "text": [
      "Testing Accuracy for MLP = 0.2857142857142857\n",
      "Testing Accuracy for MLP = 0.2857142857142857\n"
     ]
    },
    {
     "name": "stderr",
     "output_type": "stream",
     "text": [
      "e:\\Books\\ML\\Assignments\\PA-2\\venv\\lib\\site-packages\\sklearn\\neural_network\\_multilayer_perceptron.py:696: ConvergenceWarning: Stochastic Optimizer: Maximum iterations (200) reached and the optimization hasn't converged yet.\n",
      "  ConvergenceWarning,\n",
      "e:\\Books\\ML\\Assignments\\PA-2\\venv\\lib\\site-packages\\sklearn\\neural_network\\_multilayer_perceptron.py:612: UserWarning: Got `batch_size` less than 1 or larger than sample size. It is going to be clipped\n",
      "  \"Got `batch_size` less than 1 or larger than \"\n",
      "e:\\Books\\ML\\Assignments\\PA-2\\venv\\lib\\site-packages\\sklearn\\neural_network\\_multilayer_perceptron.py:696: ConvergenceWarning: Stochastic Optimizer: Maximum iterations (200) reached and the optimization hasn't converged yet.\n",
      "  ConvergenceWarning,\n",
      "e:\\Books\\ML\\Assignments\\PA-2\\venv\\lib\\site-packages\\sklearn\\neural_network\\_multilayer_perceptron.py:612: UserWarning: Got `batch_size` less than 1 or larger than sample size. It is going to be clipped\n",
      "  \"Got `batch_size` less than 1 or larger than \"\n"
     ]
    },
    {
     "name": "stdout",
     "output_type": "stream",
     "text": [
      "Testing Accuracy for MLP = 0.42857142857142855\n"
     ]
    },
    {
     "name": "stderr",
     "output_type": "stream",
     "text": [
      "e:\\Books\\ML\\Assignments\\PA-2\\venv\\lib\\site-packages\\sklearn\\neural_network\\_multilayer_perceptron.py:696: ConvergenceWarning: Stochastic Optimizer: Maximum iterations (200) reached and the optimization hasn't converged yet.\n",
      "  ConvergenceWarning,\n",
      "e:\\Books\\ML\\Assignments\\PA-2\\venv\\lib\\site-packages\\sklearn\\neural_network\\_multilayer_perceptron.py:612: UserWarning: Got `batch_size` less than 1 or larger than sample size. It is going to be clipped\n",
      "  \"Got `batch_size` less than 1 or larger than \"\n",
      "e:\\Books\\ML\\Assignments\\PA-2\\venv\\lib\\site-packages\\sklearn\\neural_network\\_multilayer_perceptron.py:696: ConvergenceWarning: Stochastic Optimizer: Maximum iterations (200) reached and the optimization hasn't converged yet.\n",
      "  ConvergenceWarning,\n"
     ]
    },
    {
     "name": "stdout",
     "output_type": "stream",
     "text": [
      "Testing Accuracy for MLP = 0.42857142857142855\n",
      "Testing Accuracy for MLP = 0.42857142857142855\n"
     ]
    },
    {
     "name": "stderr",
     "output_type": "stream",
     "text": [
      "e:\\Books\\ML\\Assignments\\PA-2\\venv\\lib\\site-packages\\sklearn\\neural_network\\_multilayer_perceptron.py:612: UserWarning: Got `batch_size` less than 1 or larger than sample size. It is going to be clipped\n",
      "  \"Got `batch_size` less than 1 or larger than \"\n",
      "e:\\Books\\ML\\Assignments\\PA-2\\venv\\lib\\site-packages\\sklearn\\neural_network\\_multilayer_perceptron.py:612: UserWarning: Got `batch_size` less than 1 or larger than sample size. It is going to be clipped\n",
      "  \"Got `batch_size` less than 1 or larger than \"\n"
     ]
    },
    {
     "name": "stdout",
     "output_type": "stream",
     "text": [
      "Testing Accuracy for MLP = 0.42857142857142855\n",
      "Testing Accuracy for MLP = 0.42857142857142855\n",
      "\n",
      "38 added to the optimal attribute subset\n",
      "\n",
      "\n",
      "55 attributes remaining\n",
      "\n",
      "\n"
     ]
    },
    {
     "name": "stderr",
     "output_type": "stream",
     "text": [
      "e:\\Books\\ML\\Assignments\\PA-2\\venv\\lib\\site-packages\\sklearn\\neural_network\\_multilayer_perceptron.py:696: ConvergenceWarning: Stochastic Optimizer: Maximum iterations (200) reached and the optimization hasn't converged yet.\n",
      "  ConvergenceWarning,\n",
      "e:\\Books\\ML\\Assignments\\PA-2\\venv\\lib\\site-packages\\sklearn\\neural_network\\_multilayer_perceptron.py:612: UserWarning: Got `batch_size` less than 1 or larger than sample size. It is going to be clipped\n",
      "  \"Got `batch_size` less than 1 or larger than \"\n",
      "e:\\Books\\ML\\Assignments\\PA-2\\venv\\lib\\site-packages\\sklearn\\neural_network\\_multilayer_perceptron.py:696: ConvergenceWarning: Stochastic Optimizer: Maximum iterations (200) reached and the optimization hasn't converged yet.\n",
      "  ConvergenceWarning,\n"
     ]
    },
    {
     "name": "stdout",
     "output_type": "stream",
     "text": [
      "Testing Accuracy for MLP = 0.42857142857142855\n",
      "Testing Accuracy for MLP = 0.5714285714285714\n"
     ]
    },
    {
     "name": "stderr",
     "output_type": "stream",
     "text": [
      "e:\\Books\\ML\\Assignments\\PA-2\\venv\\lib\\site-packages\\sklearn\\neural_network\\_multilayer_perceptron.py:612: UserWarning: Got `batch_size` less than 1 or larger than sample size. It is going to be clipped\n",
      "  \"Got `batch_size` less than 1 or larger than \"\n",
      "e:\\Books\\ML\\Assignments\\PA-2\\venv\\lib\\site-packages\\sklearn\\neural_network\\_multilayer_perceptron.py:696: ConvergenceWarning: Stochastic Optimizer: Maximum iterations (200) reached and the optimization hasn't converged yet.\n",
      "  ConvergenceWarning,\n",
      "e:\\Books\\ML\\Assignments\\PA-2\\venv\\lib\\site-packages\\sklearn\\neural_network\\_multilayer_perceptron.py:612: UserWarning: Got `batch_size` less than 1 or larger than sample size. It is going to be clipped\n",
      "  \"Got `batch_size` less than 1 or larger than \"\n",
      "e:\\Books\\ML\\Assignments\\PA-2\\venv\\lib\\site-packages\\sklearn\\neural_network\\_multilayer_perceptron.py:696: ConvergenceWarning: Stochastic Optimizer: Maximum iterations (200) reached and the optimization hasn't converged yet.\n",
      "  ConvergenceWarning,\n",
      "e:\\Books\\ML\\Assignments\\PA-2\\venv\\lib\\site-packages\\sklearn\\neural_network\\_multilayer_perceptron.py:612: UserWarning: Got `batch_size` less than 1 or larger than sample size. It is going to be clipped\n",
      "  \"Got `batch_size` less than 1 or larger than \"\n"
     ]
    },
    {
     "name": "stdout",
     "output_type": "stream",
     "text": [
      "Testing Accuracy for MLP = 0.5714285714285714\n",
      "Testing Accuracy for MLP = 0.7142857142857143\n"
     ]
    },
    {
     "name": "stderr",
     "output_type": "stream",
     "text": [
      "e:\\Books\\ML\\Assignments\\PA-2\\venv\\lib\\site-packages\\sklearn\\neural_network\\_multilayer_perceptron.py:696: ConvergenceWarning: Stochastic Optimizer: Maximum iterations (200) reached and the optimization hasn't converged yet.\n",
      "  ConvergenceWarning,\n",
      "e:\\Books\\ML\\Assignments\\PA-2\\venv\\lib\\site-packages\\sklearn\\neural_network\\_multilayer_perceptron.py:612: UserWarning: Got `batch_size` less than 1 or larger than sample size. It is going to be clipped\n",
      "  \"Got `batch_size` less than 1 or larger than \"\n",
      "e:\\Books\\ML\\Assignments\\PA-2\\venv\\lib\\site-packages\\sklearn\\neural_network\\_multilayer_perceptron.py:696: ConvergenceWarning: Stochastic Optimizer: Maximum iterations (200) reached and the optimization hasn't converged yet.\n",
      "  ConvergenceWarning,\n"
     ]
    },
    {
     "name": "stdout",
     "output_type": "stream",
     "text": [
      "Testing Accuracy for MLP = 0.5714285714285714\n"
     ]
    },
    {
     "name": "stderr",
     "output_type": "stream",
     "text": [
      "e:\\Books\\ML\\Assignments\\PA-2\\venv\\lib\\site-packages\\sklearn\\neural_network\\_multilayer_perceptron.py:612: UserWarning: Got `batch_size` less than 1 or larger than sample size. It is going to be clipped\n",
      "  \"Got `batch_size` less than 1 or larger than \"\n",
      "e:\\Books\\ML\\Assignments\\PA-2\\venv\\lib\\site-packages\\sklearn\\neural_network\\_multilayer_perceptron.py:696: ConvergenceWarning: Stochastic Optimizer: Maximum iterations (200) reached and the optimization hasn't converged yet.\n",
      "  ConvergenceWarning,\n",
      "e:\\Books\\ML\\Assignments\\PA-2\\venv\\lib\\site-packages\\sklearn\\neural_network\\_multilayer_perceptron.py:612: UserWarning: Got `batch_size` less than 1 or larger than sample size. It is going to be clipped\n",
      "  \"Got `batch_size` less than 1 or larger than \"\n",
      "e:\\Books\\ML\\Assignments\\PA-2\\venv\\lib\\site-packages\\sklearn\\neural_network\\_multilayer_perceptron.py:696: ConvergenceWarning: Stochastic Optimizer: Maximum iterations (200) reached and the optimization hasn't converged yet.\n",
      "  ConvergenceWarning,\n"
     ]
    },
    {
     "name": "stdout",
     "output_type": "stream",
     "text": [
      "Testing Accuracy for MLP = 0.5714285714285714\n",
      "Testing Accuracy for MLP = 0.2857142857142857\n"
     ]
    },
    {
     "name": "stderr",
     "output_type": "stream",
     "text": [
      "e:\\Books\\ML\\Assignments\\PA-2\\venv\\lib\\site-packages\\sklearn\\neural_network\\_multilayer_perceptron.py:612: UserWarning: Got `batch_size` less than 1 or larger than sample size. It is going to be clipped\n",
      "  \"Got `batch_size` less than 1 or larger than \"\n",
      "e:\\Books\\ML\\Assignments\\PA-2\\venv\\lib\\site-packages\\sklearn\\neural_network\\_multilayer_perceptron.py:696: ConvergenceWarning: Stochastic Optimizer: Maximum iterations (200) reached and the optimization hasn't converged yet.\n",
      "  ConvergenceWarning,\n"
     ]
    },
    {
     "name": "stdout",
     "output_type": "stream",
     "text": [
      "Testing Accuracy for MLP = 0.42857142857142855\n",
      "Testing Accuracy for MLP = 0.2857142857142857\n"
     ]
    },
    {
     "name": "stderr",
     "output_type": "stream",
     "text": [
      "e:\\Books\\ML\\Assignments\\PA-2\\venv\\lib\\site-packages\\sklearn\\neural_network\\_multilayer_perceptron.py:612: UserWarning: Got `batch_size` less than 1 or larger than sample size. It is going to be clipped\n",
      "  \"Got `batch_size` less than 1 or larger than \"\n",
      "e:\\Books\\ML\\Assignments\\PA-2\\venv\\lib\\site-packages\\sklearn\\neural_network\\_multilayer_perceptron.py:696: ConvergenceWarning: Stochastic Optimizer: Maximum iterations (200) reached and the optimization hasn't converged yet.\n",
      "  ConvergenceWarning,\n",
      "e:\\Books\\ML\\Assignments\\PA-2\\venv\\lib\\site-packages\\sklearn\\neural_network\\_multilayer_perceptron.py:612: UserWarning: Got `batch_size` less than 1 or larger than sample size. It is going to be clipped\n",
      "  \"Got `batch_size` less than 1 or larger than \"\n",
      "e:\\Books\\ML\\Assignments\\PA-2\\venv\\lib\\site-packages\\sklearn\\neural_network\\_multilayer_perceptron.py:696: ConvergenceWarning: Stochastic Optimizer: Maximum iterations (200) reached and the optimization hasn't converged yet.\n",
      "  ConvergenceWarning,\n",
      "e:\\Books\\ML\\Assignments\\PA-2\\venv\\lib\\site-packages\\sklearn\\neural_network\\_multilayer_perceptron.py:612: UserWarning: Got `batch_size` less than 1 or larger than sample size. It is going to be clipped\n",
      "  \"Got `batch_size` less than 1 or larger than \"\n"
     ]
    },
    {
     "name": "stdout",
     "output_type": "stream",
     "text": [
      "Testing Accuracy for MLP = 0.2857142857142857\n"
     ]
    },
    {
     "name": "stderr",
     "output_type": "stream",
     "text": [
      "e:\\Books\\ML\\Assignments\\PA-2\\venv\\lib\\site-packages\\sklearn\\neural_network\\_multilayer_perceptron.py:696: ConvergenceWarning: Stochastic Optimizer: Maximum iterations (200) reached and the optimization hasn't converged yet.\n",
      "  ConvergenceWarning,\n",
      "e:\\Books\\ML\\Assignments\\PA-2\\venv\\lib\\site-packages\\sklearn\\neural_network\\_multilayer_perceptron.py:612: UserWarning: Got `batch_size` less than 1 or larger than sample size. It is going to be clipped\n",
      "  \"Got `batch_size` less than 1 or larger than \"\n",
      "e:\\Books\\ML\\Assignments\\PA-2\\venv\\lib\\site-packages\\sklearn\\neural_network\\_multilayer_perceptron.py:696: ConvergenceWarning: Stochastic Optimizer: Maximum iterations (200) reached and the optimization hasn't converged yet.\n",
      "  ConvergenceWarning,\n",
      "e:\\Books\\ML\\Assignments\\PA-2\\venv\\lib\\site-packages\\sklearn\\neural_network\\_multilayer_perceptron.py:612: UserWarning: Got `batch_size` less than 1 or larger than sample size. It is going to be clipped\n",
      "  \"Got `batch_size` less than 1 or larger than \"\n"
     ]
    },
    {
     "name": "stdout",
     "output_type": "stream",
     "text": [
      "Testing Accuracy for MLP = 0.14285714285714285\n",
      "Testing Accuracy for MLP = 0.5714285714285714\n"
     ]
    },
    {
     "name": "stderr",
     "output_type": "stream",
     "text": [
      "e:\\Books\\ML\\Assignments\\PA-2\\venv\\lib\\site-packages\\sklearn\\neural_network\\_multilayer_perceptron.py:696: ConvergenceWarning: Stochastic Optimizer: Maximum iterations (200) reached and the optimization hasn't converged yet.\n",
      "  ConvergenceWarning,\n",
      "e:\\Books\\ML\\Assignments\\PA-2\\venv\\lib\\site-packages\\sklearn\\neural_network\\_multilayer_perceptron.py:612: UserWarning: Got `batch_size` less than 1 or larger than sample size. It is going to be clipped\n",
      "  \"Got `batch_size` less than 1 or larger than \"\n",
      "e:\\Books\\ML\\Assignments\\PA-2\\venv\\lib\\site-packages\\sklearn\\neural_network\\_multilayer_perceptron.py:696: ConvergenceWarning: Stochastic Optimizer: Maximum iterations (200) reached and the optimization hasn't converged yet.\n",
      "  ConvergenceWarning,\n",
      "e:\\Books\\ML\\Assignments\\PA-2\\venv\\lib\\site-packages\\sklearn\\neural_network\\_multilayer_perceptron.py:612: UserWarning: Got `batch_size` less than 1 or larger than sample size. It is going to be clipped\n",
      "  \"Got `batch_size` less than 1 or larger than \"\n"
     ]
    },
    {
     "name": "stdout",
     "output_type": "stream",
     "text": [
      "Testing Accuracy for MLP = 0.42857142857142855\n",
      "Testing Accuracy for MLP = 0.42857142857142855\n"
     ]
    },
    {
     "name": "stderr",
     "output_type": "stream",
     "text": [
      "e:\\Books\\ML\\Assignments\\PA-2\\venv\\lib\\site-packages\\sklearn\\neural_network\\_multilayer_perceptron.py:696: ConvergenceWarning: Stochastic Optimizer: Maximum iterations (200) reached and the optimization hasn't converged yet.\n",
      "  ConvergenceWarning,\n",
      "e:\\Books\\ML\\Assignments\\PA-2\\venv\\lib\\site-packages\\sklearn\\neural_network\\_multilayer_perceptron.py:612: UserWarning: Got `batch_size` less than 1 or larger than sample size. It is going to be clipped\n",
      "  \"Got `batch_size` less than 1 or larger than \"\n",
      "e:\\Books\\ML\\Assignments\\PA-2\\venv\\lib\\site-packages\\sklearn\\neural_network\\_multilayer_perceptron.py:696: ConvergenceWarning: Stochastic Optimizer: Maximum iterations (200) reached and the optimization hasn't converged yet.\n",
      "  ConvergenceWarning,\n",
      "e:\\Books\\ML\\Assignments\\PA-2\\venv\\lib\\site-packages\\sklearn\\neural_network\\_multilayer_perceptron.py:612: UserWarning: Got `batch_size` less than 1 or larger than sample size. It is going to be clipped\n",
      "  \"Got `batch_size` less than 1 or larger than \"\n"
     ]
    },
    {
     "name": "stdout",
     "output_type": "stream",
     "text": [
      "Testing Accuracy for MLP = 0.5714285714285714\n",
      "Testing Accuracy for MLP = 0.2857142857142857\n"
     ]
    },
    {
     "name": "stderr",
     "output_type": "stream",
     "text": [
      "e:\\Books\\ML\\Assignments\\PA-2\\venv\\lib\\site-packages\\sklearn\\neural_network\\_multilayer_perceptron.py:696: ConvergenceWarning: Stochastic Optimizer: Maximum iterations (200) reached and the optimization hasn't converged yet.\n",
      "  ConvergenceWarning,\n",
      "e:\\Books\\ML\\Assignments\\PA-2\\venv\\lib\\site-packages\\sklearn\\neural_network\\_multilayer_perceptron.py:612: UserWarning: Got `batch_size` less than 1 or larger than sample size. It is going to be clipped\n",
      "  \"Got `batch_size` less than 1 or larger than \"\n"
     ]
    },
    {
     "name": "stdout",
     "output_type": "stream",
     "text": [
      "Testing Accuracy for MLP = 0.5714285714285714\n"
     ]
    },
    {
     "name": "stderr",
     "output_type": "stream",
     "text": [
      "e:\\Books\\ML\\Assignments\\PA-2\\venv\\lib\\site-packages\\sklearn\\neural_network\\_multilayer_perceptron.py:696: ConvergenceWarning: Stochastic Optimizer: Maximum iterations (200) reached and the optimization hasn't converged yet.\n",
      "  ConvergenceWarning,\n",
      "e:\\Books\\ML\\Assignments\\PA-2\\venv\\lib\\site-packages\\sklearn\\neural_network\\_multilayer_perceptron.py:612: UserWarning: Got `batch_size` less than 1 or larger than sample size. It is going to be clipped\n",
      "  \"Got `batch_size` less than 1 or larger than \"\n",
      "e:\\Books\\ML\\Assignments\\PA-2\\venv\\lib\\site-packages\\sklearn\\neural_network\\_multilayer_perceptron.py:696: ConvergenceWarning: Stochastic Optimizer: Maximum iterations (200) reached and the optimization hasn't converged yet.\n",
      "  ConvergenceWarning,\n"
     ]
    },
    {
     "name": "stdout",
     "output_type": "stream",
     "text": [
      "Testing Accuracy for MLP = 0.2857142857142857\n",
      "Testing Accuracy for MLP = 0.5714285714285714\n"
     ]
    },
    {
     "name": "stderr",
     "output_type": "stream",
     "text": [
      "e:\\Books\\ML\\Assignments\\PA-2\\venv\\lib\\site-packages\\sklearn\\neural_network\\_multilayer_perceptron.py:612: UserWarning: Got `batch_size` less than 1 or larger than sample size. It is going to be clipped\n",
      "  \"Got `batch_size` less than 1 or larger than \"\n",
      "e:\\Books\\ML\\Assignments\\PA-2\\venv\\lib\\site-packages\\sklearn\\neural_network\\_multilayer_perceptron.py:696: ConvergenceWarning: Stochastic Optimizer: Maximum iterations (200) reached and the optimization hasn't converged yet.\n",
      "  ConvergenceWarning,\n",
      "e:\\Books\\ML\\Assignments\\PA-2\\venv\\lib\\site-packages\\sklearn\\neural_network\\_multilayer_perceptron.py:612: UserWarning: Got `batch_size` less than 1 or larger than sample size. It is going to be clipped\n",
      "  \"Got `batch_size` less than 1 or larger than \"\n"
     ]
    },
    {
     "name": "stdout",
     "output_type": "stream",
     "text": [
      "Testing Accuracy for MLP = 0.7142857142857143\n"
     ]
    },
    {
     "name": "stderr",
     "output_type": "stream",
     "text": [
      "e:\\Books\\ML\\Assignments\\PA-2\\venv\\lib\\site-packages\\sklearn\\neural_network\\_multilayer_perceptron.py:696: ConvergenceWarning: Stochastic Optimizer: Maximum iterations (200) reached and the optimization hasn't converged yet.\n",
      "  ConvergenceWarning,\n",
      "e:\\Books\\ML\\Assignments\\PA-2\\venv\\lib\\site-packages\\sklearn\\neural_network\\_multilayer_perceptron.py:612: UserWarning: Got `batch_size` less than 1 or larger than sample size. It is going to be clipped\n",
      "  \"Got `batch_size` less than 1 or larger than \"\n"
     ]
    },
    {
     "name": "stdout",
     "output_type": "stream",
     "text": [
      "Testing Accuracy for MLP = 0.5714285714285714\n"
     ]
    },
    {
     "name": "stderr",
     "output_type": "stream",
     "text": [
      "e:\\Books\\ML\\Assignments\\PA-2\\venv\\lib\\site-packages\\sklearn\\neural_network\\_multilayer_perceptron.py:696: ConvergenceWarning: Stochastic Optimizer: Maximum iterations (200) reached and the optimization hasn't converged yet.\n",
      "  ConvergenceWarning,\n",
      "e:\\Books\\ML\\Assignments\\PA-2\\venv\\lib\\site-packages\\sklearn\\neural_network\\_multilayer_perceptron.py:612: UserWarning: Got `batch_size` less than 1 or larger than sample size. It is going to be clipped\n",
      "  \"Got `batch_size` less than 1 or larger than \"\n",
      "e:\\Books\\ML\\Assignments\\PA-2\\venv\\lib\\site-packages\\sklearn\\neural_network\\_multilayer_perceptron.py:696: ConvergenceWarning: Stochastic Optimizer: Maximum iterations (200) reached and the optimization hasn't converged yet.\n",
      "  ConvergenceWarning,\n"
     ]
    },
    {
     "name": "stdout",
     "output_type": "stream",
     "text": [
      "Testing Accuracy for MLP = 0.42857142857142855\n",
      "Testing Accuracy for MLP = 0.5714285714285714\n"
     ]
    },
    {
     "name": "stderr",
     "output_type": "stream",
     "text": [
      "e:\\Books\\ML\\Assignments\\PA-2\\venv\\lib\\site-packages\\sklearn\\neural_network\\_multilayer_perceptron.py:612: UserWarning: Got `batch_size` less than 1 or larger than sample size. It is going to be clipped\n",
      "  \"Got `batch_size` less than 1 or larger than \"\n",
      "e:\\Books\\ML\\Assignments\\PA-2\\venv\\lib\\site-packages\\sklearn\\neural_network\\_multilayer_perceptron.py:696: ConvergenceWarning: Stochastic Optimizer: Maximum iterations (200) reached and the optimization hasn't converged yet.\n",
      "  ConvergenceWarning,\n",
      "e:\\Books\\ML\\Assignments\\PA-2\\venv\\lib\\site-packages\\sklearn\\neural_network\\_multilayer_perceptron.py:612: UserWarning: Got `batch_size` less than 1 or larger than sample size. It is going to be clipped\n",
      "  \"Got `batch_size` less than 1 or larger than \"\n",
      "e:\\Books\\ML\\Assignments\\PA-2\\venv\\lib\\site-packages\\sklearn\\neural_network\\_multilayer_perceptron.py:696: ConvergenceWarning: Stochastic Optimizer: Maximum iterations (200) reached and the optimization hasn't converged yet.\n",
      "  ConvergenceWarning,\n"
     ]
    },
    {
     "name": "stdout",
     "output_type": "stream",
     "text": [
      "Testing Accuracy for MLP = 0.42857142857142855\n",
      "Testing Accuracy for MLP = 0.7142857142857143\n"
     ]
    },
    {
     "name": "stderr",
     "output_type": "stream",
     "text": [
      "e:\\Books\\ML\\Assignments\\PA-2\\venv\\lib\\site-packages\\sklearn\\neural_network\\_multilayer_perceptron.py:612: UserWarning: Got `batch_size` less than 1 or larger than sample size. It is going to be clipped\n",
      "  \"Got `batch_size` less than 1 or larger than \"\n",
      "e:\\Books\\ML\\Assignments\\PA-2\\venv\\lib\\site-packages\\sklearn\\neural_network\\_multilayer_perceptron.py:696: ConvergenceWarning: Stochastic Optimizer: Maximum iterations (200) reached and the optimization hasn't converged yet.\n",
      "  ConvergenceWarning,\n"
     ]
    },
    {
     "name": "stdout",
     "output_type": "stream",
     "text": [
      "Testing Accuracy for MLP = 0.42857142857142855\n",
      "Testing Accuracy for MLP = 0.42857142857142855\n"
     ]
    },
    {
     "name": "stderr",
     "output_type": "stream",
     "text": [
      "e:\\Books\\ML\\Assignments\\PA-2\\venv\\lib\\site-packages\\sklearn\\neural_network\\_multilayer_perceptron.py:612: UserWarning: Got `batch_size` less than 1 or larger than sample size. It is going to be clipped\n",
      "  \"Got `batch_size` less than 1 or larger than \"\n",
      "e:\\Books\\ML\\Assignments\\PA-2\\venv\\lib\\site-packages\\sklearn\\neural_network\\_multilayer_perceptron.py:696: ConvergenceWarning: Stochastic Optimizer: Maximum iterations (200) reached and the optimization hasn't converged yet.\n",
      "  ConvergenceWarning,\n",
      "e:\\Books\\ML\\Assignments\\PA-2\\venv\\lib\\site-packages\\sklearn\\neural_network\\_multilayer_perceptron.py:612: UserWarning: Got `batch_size` less than 1 or larger than sample size. It is going to be clipped\n",
      "  \"Got `batch_size` less than 1 or larger than \"\n",
      "e:\\Books\\ML\\Assignments\\PA-2\\venv\\lib\\site-packages\\sklearn\\neural_network\\_multilayer_perceptron.py:696: ConvergenceWarning: Stochastic Optimizer: Maximum iterations (200) reached and the optimization hasn't converged yet.\n",
      "  ConvergenceWarning,\n",
      "e:\\Books\\ML\\Assignments\\PA-2\\venv\\lib\\site-packages\\sklearn\\neural_network\\_multilayer_perceptron.py:612: UserWarning: Got `batch_size` less than 1 or larger than sample size. It is going to be clipped\n",
      "  \"Got `batch_size` less than 1 or larger than \"\n",
      "e:\\Books\\ML\\Assignments\\PA-2\\venv\\lib\\site-packages\\sklearn\\neural_network\\_multilayer_perceptron.py:696: ConvergenceWarning: Stochastic Optimizer: Maximum iterations (200) reached and the optimization hasn't converged yet.\n",
      "  ConvergenceWarning,\n"
     ]
    },
    {
     "name": "stdout",
     "output_type": "stream",
     "text": [
      "Testing Accuracy for MLP = 0.5714285714285714\n",
      "Testing Accuracy for MLP = 0.5714285714285714\n"
     ]
    },
    {
     "name": "stderr",
     "output_type": "stream",
     "text": [
      "e:\\Books\\ML\\Assignments\\PA-2\\venv\\lib\\site-packages\\sklearn\\neural_network\\_multilayer_perceptron.py:612: UserWarning: Got `batch_size` less than 1 or larger than sample size. It is going to be clipped\n",
      "  \"Got `batch_size` less than 1 or larger than \"\n",
      "e:\\Books\\ML\\Assignments\\PA-2\\venv\\lib\\site-packages\\sklearn\\neural_network\\_multilayer_perceptron.py:696: ConvergenceWarning: Stochastic Optimizer: Maximum iterations (200) reached and the optimization hasn't converged yet.\n",
      "  ConvergenceWarning,\n",
      "e:\\Books\\ML\\Assignments\\PA-2\\venv\\lib\\site-packages\\sklearn\\neural_network\\_multilayer_perceptron.py:612: UserWarning: Got `batch_size` less than 1 or larger than sample size. It is going to be clipped\n",
      "  \"Got `batch_size` less than 1 or larger than \"\n"
     ]
    },
    {
     "name": "stdout",
     "output_type": "stream",
     "text": [
      "Testing Accuracy for MLP = 0.8571428571428571\n"
     ]
    },
    {
     "name": "stderr",
     "output_type": "stream",
     "text": [
      "e:\\Books\\ML\\Assignments\\PA-2\\venv\\lib\\site-packages\\sklearn\\neural_network\\_multilayer_perceptron.py:696: ConvergenceWarning: Stochastic Optimizer: Maximum iterations (200) reached and the optimization hasn't converged yet.\n",
      "  ConvergenceWarning,\n",
      "e:\\Books\\ML\\Assignments\\PA-2\\venv\\lib\\site-packages\\sklearn\\neural_network\\_multilayer_perceptron.py:612: UserWarning: Got `batch_size` less than 1 or larger than sample size. It is going to be clipped\n",
      "  \"Got `batch_size` less than 1 or larger than \"\n",
      "e:\\Books\\ML\\Assignments\\PA-2\\venv\\lib\\site-packages\\sklearn\\neural_network\\_multilayer_perceptron.py:696: ConvergenceWarning: Stochastic Optimizer: Maximum iterations (200) reached and the optimization hasn't converged yet.\n",
      "  ConvergenceWarning,\n"
     ]
    },
    {
     "name": "stdout",
     "output_type": "stream",
     "text": [
      "Testing Accuracy for MLP = 0.42857142857142855\n",
      "Testing Accuracy for MLP = 0.42857142857142855\n"
     ]
    },
    {
     "name": "stderr",
     "output_type": "stream",
     "text": [
      "e:\\Books\\ML\\Assignments\\PA-2\\venv\\lib\\site-packages\\sklearn\\neural_network\\_multilayer_perceptron.py:612: UserWarning: Got `batch_size` less than 1 or larger than sample size. It is going to be clipped\n",
      "  \"Got `batch_size` less than 1 or larger than \"\n",
      "e:\\Books\\ML\\Assignments\\PA-2\\venv\\lib\\site-packages\\sklearn\\neural_network\\_multilayer_perceptron.py:696: ConvergenceWarning: Stochastic Optimizer: Maximum iterations (200) reached and the optimization hasn't converged yet.\n",
      "  ConvergenceWarning,\n",
      "e:\\Books\\ML\\Assignments\\PA-2\\venv\\lib\\site-packages\\sklearn\\neural_network\\_multilayer_perceptron.py:612: UserWarning: Got `batch_size` less than 1 or larger than sample size. It is going to be clipped\n",
      "  \"Got `batch_size` less than 1 or larger than \"\n"
     ]
    },
    {
     "name": "stdout",
     "output_type": "stream",
     "text": [
      "Testing Accuracy for MLP = 0.42857142857142855\n",
      "Testing Accuracy for MLP = 0.42857142857142855\n"
     ]
    },
    {
     "name": "stderr",
     "output_type": "stream",
     "text": [
      "e:\\Books\\ML\\Assignments\\PA-2\\venv\\lib\\site-packages\\sklearn\\neural_network\\_multilayer_perceptron.py:696: ConvergenceWarning: Stochastic Optimizer: Maximum iterations (200) reached and the optimization hasn't converged yet.\n",
      "  ConvergenceWarning,\n",
      "e:\\Books\\ML\\Assignments\\PA-2\\venv\\lib\\site-packages\\sklearn\\neural_network\\_multilayer_perceptron.py:612: UserWarning: Got `batch_size` less than 1 or larger than sample size. It is going to be clipped\n",
      "  \"Got `batch_size` less than 1 or larger than \"\n",
      "e:\\Books\\ML\\Assignments\\PA-2\\venv\\lib\\site-packages\\sklearn\\neural_network\\_multilayer_perceptron.py:696: ConvergenceWarning: Stochastic Optimizer: Maximum iterations (200) reached and the optimization hasn't converged yet.\n",
      "  ConvergenceWarning,\n"
     ]
    },
    {
     "name": "stdout",
     "output_type": "stream",
     "text": [
      "Testing Accuracy for MLP = 0.42857142857142855\n"
     ]
    },
    {
     "name": "stderr",
     "output_type": "stream",
     "text": [
      "e:\\Books\\ML\\Assignments\\PA-2\\venv\\lib\\site-packages\\sklearn\\neural_network\\_multilayer_perceptron.py:612: UserWarning: Got `batch_size` less than 1 or larger than sample size. It is going to be clipped\n",
      "  \"Got `batch_size` less than 1 or larger than \"\n",
      "e:\\Books\\ML\\Assignments\\PA-2\\venv\\lib\\site-packages\\sklearn\\neural_network\\_multilayer_perceptron.py:696: ConvergenceWarning: Stochastic Optimizer: Maximum iterations (200) reached and the optimization hasn't converged yet.\n",
      "  ConvergenceWarning,\n",
      "e:\\Books\\ML\\Assignments\\PA-2\\venv\\lib\\site-packages\\sklearn\\neural_network\\_multilayer_perceptron.py:612: UserWarning: Got `batch_size` less than 1 or larger than sample size. It is going to be clipped\n",
      "  \"Got `batch_size` less than 1 or larger than \"\n"
     ]
    },
    {
     "name": "stdout",
     "output_type": "stream",
     "text": [
      "Testing Accuracy for MLP = 0.5714285714285714\n"
     ]
    },
    {
     "name": "stderr",
     "output_type": "stream",
     "text": [
      "e:\\Books\\ML\\Assignments\\PA-2\\venv\\lib\\site-packages\\sklearn\\neural_network\\_multilayer_perceptron.py:696: ConvergenceWarning: Stochastic Optimizer: Maximum iterations (200) reached and the optimization hasn't converged yet.\n",
      "  ConvergenceWarning,\n",
      "e:\\Books\\ML\\Assignments\\PA-2\\venv\\lib\\site-packages\\sklearn\\neural_network\\_multilayer_perceptron.py:612: UserWarning: Got `batch_size` less than 1 or larger than sample size. It is going to be clipped\n",
      "  \"Got `batch_size` less than 1 or larger than \"\n",
      "e:\\Books\\ML\\Assignments\\PA-2\\venv\\lib\\site-packages\\sklearn\\neural_network\\_multilayer_perceptron.py:696: ConvergenceWarning: Stochastic Optimizer: Maximum iterations (200) reached and the optimization hasn't converged yet.\n",
      "  ConvergenceWarning,\n"
     ]
    },
    {
     "name": "stdout",
     "output_type": "stream",
     "text": [
      "Testing Accuracy for MLP = 0.5714285714285714\n",
      "Testing Accuracy for MLP = 0.42857142857142855\n"
     ]
    },
    {
     "name": "stderr",
     "output_type": "stream",
     "text": [
      "e:\\Books\\ML\\Assignments\\PA-2\\venv\\lib\\site-packages\\sklearn\\neural_network\\_multilayer_perceptron.py:612: UserWarning: Got `batch_size` less than 1 or larger than sample size. It is going to be clipped\n",
      "  \"Got `batch_size` less than 1 or larger than \"\n",
      "e:\\Books\\ML\\Assignments\\PA-2\\venv\\lib\\site-packages\\sklearn\\neural_network\\_multilayer_perceptron.py:696: ConvergenceWarning: Stochastic Optimizer: Maximum iterations (200) reached and the optimization hasn't converged yet.\n",
      "  ConvergenceWarning,\n",
      "e:\\Books\\ML\\Assignments\\PA-2\\venv\\lib\\site-packages\\sklearn\\neural_network\\_multilayer_perceptron.py:612: UserWarning: Got `batch_size` less than 1 or larger than sample size. It is going to be clipped\n",
      "  \"Got `batch_size` less than 1 or larger than \"\n",
      "e:\\Books\\ML\\Assignments\\PA-2\\venv\\lib\\site-packages\\sklearn\\neural_network\\_multilayer_perceptron.py:696: ConvergenceWarning: Stochastic Optimizer: Maximum iterations (200) reached and the optimization hasn't converged yet.\n",
      "  ConvergenceWarning,\n"
     ]
    },
    {
     "name": "stdout",
     "output_type": "stream",
     "text": [
      "Testing Accuracy for MLP = 0.7142857142857143\n",
      "Testing Accuracy for MLP = 0.42857142857142855\n"
     ]
    },
    {
     "name": "stderr",
     "output_type": "stream",
     "text": [
      "e:\\Books\\ML\\Assignments\\PA-2\\venv\\lib\\site-packages\\sklearn\\neural_network\\_multilayer_perceptron.py:612: UserWarning: Got `batch_size` less than 1 or larger than sample size. It is going to be clipped\n",
      "  \"Got `batch_size` less than 1 or larger than \"\n",
      "e:\\Books\\ML\\Assignments\\PA-2\\venv\\lib\\site-packages\\sklearn\\neural_network\\_multilayer_perceptron.py:696: ConvergenceWarning: Stochastic Optimizer: Maximum iterations (200) reached and the optimization hasn't converged yet.\n",
      "  ConvergenceWarning,\n",
      "e:\\Books\\ML\\Assignments\\PA-2\\venv\\lib\\site-packages\\sklearn\\neural_network\\_multilayer_perceptron.py:612: UserWarning: Got `batch_size` less than 1 or larger than sample size. It is going to be clipped\n",
      "  \"Got `batch_size` less than 1 or larger than \"\n"
     ]
    },
    {
     "name": "stdout",
     "output_type": "stream",
     "text": [
      "Testing Accuracy for MLP = 0.42857142857142855\n",
      "Testing Accuracy for MLP = 0.42857142857142855\n"
     ]
    },
    {
     "name": "stderr",
     "output_type": "stream",
     "text": [
      "e:\\Books\\ML\\Assignments\\PA-2\\venv\\lib\\site-packages\\sklearn\\neural_network\\_multilayer_perceptron.py:696: ConvergenceWarning: Stochastic Optimizer: Maximum iterations (200) reached and the optimization hasn't converged yet.\n",
      "  ConvergenceWarning,\n",
      "e:\\Books\\ML\\Assignments\\PA-2\\venv\\lib\\site-packages\\sklearn\\neural_network\\_multilayer_perceptron.py:612: UserWarning: Got `batch_size` less than 1 or larger than sample size. It is going to be clipped\n",
      "  \"Got `batch_size` less than 1 or larger than \"\n",
      "e:\\Books\\ML\\Assignments\\PA-2\\venv\\lib\\site-packages\\sklearn\\neural_network\\_multilayer_perceptron.py:696: ConvergenceWarning: Stochastic Optimizer: Maximum iterations (200) reached and the optimization hasn't converged yet.\n",
      "  ConvergenceWarning,\n",
      "e:\\Books\\ML\\Assignments\\PA-2\\venv\\lib\\site-packages\\sklearn\\neural_network\\_multilayer_perceptron.py:612: UserWarning: Got `batch_size` less than 1 or larger than sample size. It is going to be clipped\n",
      "  \"Got `batch_size` less than 1 or larger than \"\n",
      "e:\\Books\\ML\\Assignments\\PA-2\\venv\\lib\\site-packages\\sklearn\\neural_network\\_multilayer_perceptron.py:696: ConvergenceWarning: Stochastic Optimizer: Maximum iterations (200) reached and the optimization hasn't converged yet.\n",
      "  ConvergenceWarning,\n",
      "e:\\Books\\ML\\Assignments\\PA-2\\venv\\lib\\site-packages\\sklearn\\neural_network\\_multilayer_perceptron.py:612: UserWarning: Got `batch_size` less than 1 or larger than sample size. It is going to be clipped\n",
      "  \"Got `batch_size` less than 1 or larger than \"\n"
     ]
    },
    {
     "name": "stdout",
     "output_type": "stream",
     "text": [
      "Testing Accuracy for MLP = 0.5714285714285714\n",
      "Testing Accuracy for MLP = 0.5714285714285714\n"
     ]
    },
    {
     "name": "stderr",
     "output_type": "stream",
     "text": [
      "e:\\Books\\ML\\Assignments\\PA-2\\venv\\lib\\site-packages\\sklearn\\neural_network\\_multilayer_perceptron.py:696: ConvergenceWarning: Stochastic Optimizer: Maximum iterations (200) reached and the optimization hasn't converged yet.\n",
      "  ConvergenceWarning,\n",
      "e:\\Books\\ML\\Assignments\\PA-2\\venv\\lib\\site-packages\\sklearn\\neural_network\\_multilayer_perceptron.py:612: UserWarning: Got `batch_size` less than 1 or larger than sample size. It is going to be clipped\n",
      "  \"Got `batch_size` less than 1 or larger than \"\n"
     ]
    },
    {
     "name": "stdout",
     "output_type": "stream",
     "text": [
      "Testing Accuracy for MLP = 0.5714285714285714\n"
     ]
    },
    {
     "name": "stderr",
     "output_type": "stream",
     "text": [
      "e:\\Books\\ML\\Assignments\\PA-2\\venv\\lib\\site-packages\\sklearn\\neural_network\\_multilayer_perceptron.py:696: ConvergenceWarning: Stochastic Optimizer: Maximum iterations (200) reached and the optimization hasn't converged yet.\n",
      "  ConvergenceWarning,\n",
      "e:\\Books\\ML\\Assignments\\PA-2\\venv\\lib\\site-packages\\sklearn\\neural_network\\_multilayer_perceptron.py:612: UserWarning: Got `batch_size` less than 1 or larger than sample size. It is going to be clipped\n",
      "  \"Got `batch_size` less than 1 or larger than \"\n",
      "e:\\Books\\ML\\Assignments\\PA-2\\venv\\lib\\site-packages\\sklearn\\neural_network\\_multilayer_perceptron.py:696: ConvergenceWarning: Stochastic Optimizer: Maximum iterations (200) reached and the optimization hasn't converged yet.\n",
      "  ConvergenceWarning,\n"
     ]
    },
    {
     "name": "stdout",
     "output_type": "stream",
     "text": [
      "Testing Accuracy for MLP = 0.42857142857142855\n",
      "Testing Accuracy for MLP = 0.42857142857142855\n"
     ]
    },
    {
     "name": "stderr",
     "output_type": "stream",
     "text": [
      "e:\\Books\\ML\\Assignments\\PA-2\\venv\\lib\\site-packages\\sklearn\\neural_network\\_multilayer_perceptron.py:612: UserWarning: Got `batch_size` less than 1 or larger than sample size. It is going to be clipped\n",
      "  \"Got `batch_size` less than 1 or larger than \"\n",
      "e:\\Books\\ML\\Assignments\\PA-2\\venv\\lib\\site-packages\\sklearn\\neural_network\\_multilayer_perceptron.py:696: ConvergenceWarning: Stochastic Optimizer: Maximum iterations (200) reached and the optimization hasn't converged yet.\n",
      "  ConvergenceWarning,\n"
     ]
    },
    {
     "name": "stdout",
     "output_type": "stream",
     "text": [
      "Testing Accuracy for MLP = 0.5714285714285714\n",
      "Testing Accuracy for MLP = 0.42857142857142855\n"
     ]
    },
    {
     "name": "stderr",
     "output_type": "stream",
     "text": [
      "e:\\Books\\ML\\Assignments\\PA-2\\venv\\lib\\site-packages\\sklearn\\neural_network\\_multilayer_perceptron.py:612: UserWarning: Got `batch_size` less than 1 or larger than sample size. It is going to be clipped\n",
      "  \"Got `batch_size` less than 1 or larger than \"\n",
      "e:\\Books\\ML\\Assignments\\PA-2\\venv\\lib\\site-packages\\sklearn\\neural_network\\_multilayer_perceptron.py:696: ConvergenceWarning: Stochastic Optimizer: Maximum iterations (200) reached and the optimization hasn't converged yet.\n",
      "  ConvergenceWarning,\n",
      "e:\\Books\\ML\\Assignments\\PA-2\\venv\\lib\\site-packages\\sklearn\\neural_network\\_multilayer_perceptron.py:612: UserWarning: Got `batch_size` less than 1 or larger than sample size. It is going to be clipped\n",
      "  \"Got `batch_size` less than 1 or larger than \"\n",
      "e:\\Books\\ML\\Assignments\\PA-2\\venv\\lib\\site-packages\\sklearn\\neural_network\\_multilayer_perceptron.py:696: ConvergenceWarning: Stochastic Optimizer: Maximum iterations (200) reached and the optimization hasn't converged yet.\n",
      "  ConvergenceWarning,\n",
      "e:\\Books\\ML\\Assignments\\PA-2\\venv\\lib\\site-packages\\sklearn\\neural_network\\_multilayer_perceptron.py:612: UserWarning: Got `batch_size` less than 1 or larger than sample size. It is going to be clipped\n",
      "  \"Got `batch_size` less than 1 or larger than \"\n",
      "e:\\Books\\ML\\Assignments\\PA-2\\venv\\lib\\site-packages\\sklearn\\neural_network\\_multilayer_perceptron.py:696: ConvergenceWarning: Stochastic Optimizer: Maximum iterations (200) reached and the optimization hasn't converged yet.\n",
      "  ConvergenceWarning,\n",
      "e:\\Books\\ML\\Assignments\\PA-2\\venv\\lib\\site-packages\\sklearn\\neural_network\\_multilayer_perceptron.py:612: UserWarning: Got `batch_size` less than 1 or larger than sample size. It is going to be clipped\n",
      "  \"Got `batch_size` less than 1 or larger than \"\n"
     ]
    },
    {
     "name": "stdout",
     "output_type": "stream",
     "text": [
      "Testing Accuracy for MLP = 0.7142857142857143\n",
      "Testing Accuracy for MLP = 0.7142857142857143\n"
     ]
    },
    {
     "name": "stderr",
     "output_type": "stream",
     "text": [
      "e:\\Books\\ML\\Assignments\\PA-2\\venv\\lib\\site-packages\\sklearn\\neural_network\\_multilayer_perceptron.py:696: ConvergenceWarning: Stochastic Optimizer: Maximum iterations (200) reached and the optimization hasn't converged yet.\n",
      "  ConvergenceWarning,\n",
      "e:\\Books\\ML\\Assignments\\PA-2\\venv\\lib\\site-packages\\sklearn\\neural_network\\_multilayer_perceptron.py:612: UserWarning: Got `batch_size` less than 1 or larger than sample size. It is going to be clipped\n",
      "  \"Got `batch_size` less than 1 or larger than \"\n",
      "e:\\Books\\ML\\Assignments\\PA-2\\venv\\lib\\site-packages\\sklearn\\neural_network\\_multilayer_perceptron.py:696: ConvergenceWarning: Stochastic Optimizer: Maximum iterations (200) reached and the optimization hasn't converged yet.\n",
      "  ConvergenceWarning,\n",
      "e:\\Books\\ML\\Assignments\\PA-2\\venv\\lib\\site-packages\\sklearn\\neural_network\\_multilayer_perceptron.py:612: UserWarning: Got `batch_size` less than 1 or larger than sample size. It is going to be clipped\n",
      "  \"Got `batch_size` less than 1 or larger than \"\n"
     ]
    },
    {
     "name": "stdout",
     "output_type": "stream",
     "text": [
      "Testing Accuracy for MLP = 0.5714285714285714\n",
      "Testing Accuracy for MLP = 0.7142857142857143\n"
     ]
    },
    {
     "name": "stderr",
     "output_type": "stream",
     "text": [
      "e:\\Books\\ML\\Assignments\\PA-2\\venv\\lib\\site-packages\\sklearn\\neural_network\\_multilayer_perceptron.py:696: ConvergenceWarning: Stochastic Optimizer: Maximum iterations (200) reached and the optimization hasn't converged yet.\n",
      "  ConvergenceWarning,\n",
      "e:\\Books\\ML\\Assignments\\PA-2\\venv\\lib\\site-packages\\sklearn\\neural_network\\_multilayer_perceptron.py:612: UserWarning: Got `batch_size` less than 1 or larger than sample size. It is going to be clipped\n",
      "  \"Got `batch_size` less than 1 or larger than \"\n",
      "e:\\Books\\ML\\Assignments\\PA-2\\venv\\lib\\site-packages\\sklearn\\neural_network\\_multilayer_perceptron.py:696: ConvergenceWarning: Stochastic Optimizer: Maximum iterations (200) reached and the optimization hasn't converged yet.\n",
      "  ConvergenceWarning,\n"
     ]
    },
    {
     "name": "stdout",
     "output_type": "stream",
     "text": [
      "Testing Accuracy for MLP = 0.5714285714285714\n",
      "Testing Accuracy for MLP = 0.42857142857142855\n",
      "\n",
      "31 added to the optimal attribute subset\n",
      "\n",
      "\n",
      "54 attributes remaining\n",
      "\n",
      "\n",
      "Attribute 2 has 0 std in the training set, hence droping it.\n"
     ]
    },
    {
     "name": "stderr",
     "output_type": "stream",
     "text": [
      "e:\\Books\\ML\\Assignments\\PA-2\\venv\\lib\\site-packages\\sklearn\\neural_network\\_multilayer_perceptron.py:612: UserWarning: Got `batch_size` less than 1 or larger than sample size. It is going to be clipped\n",
      "  \"Got `batch_size` less than 1 or larger than \"\n",
      "e:\\Books\\ML\\Assignments\\PA-2\\venv\\lib\\site-packages\\sklearn\\neural_network\\_multilayer_perceptron.py:696: ConvergenceWarning: Stochastic Optimizer: Maximum iterations (200) reached and the optimization hasn't converged yet.\n",
      "  ConvergenceWarning,\n"
     ]
    },
    {
     "name": "stdout",
     "output_type": "stream",
     "text": [
      "Testing Accuracy for MLP = 0.5714285714285714\n"
     ]
    },
    {
     "name": "stderr",
     "output_type": "stream",
     "text": [
      "e:\\Books\\ML\\Assignments\\PA-2\\venv\\lib\\site-packages\\sklearn\\neural_network\\_multilayer_perceptron.py:612: UserWarning: Got `batch_size` less than 1 or larger than sample size. It is going to be clipped\n",
      "  \"Got `batch_size` less than 1 or larger than \"\n",
      "e:\\Books\\ML\\Assignments\\PA-2\\venv\\lib\\site-packages\\sklearn\\neural_network\\_multilayer_perceptron.py:696: ConvergenceWarning: Stochastic Optimizer: Maximum iterations (200) reached and the optimization hasn't converged yet.\n",
      "  ConvergenceWarning,\n"
     ]
    },
    {
     "name": "stdout",
     "output_type": "stream",
     "text": [
      "Testing Accuracy for MLP = 0.5714285714285714\n",
      "Testing Accuracy for MLP = 0.5714285714285714\n"
     ]
    },
    {
     "name": "stderr",
     "output_type": "stream",
     "text": [
      "e:\\Books\\ML\\Assignments\\PA-2\\venv\\lib\\site-packages\\sklearn\\neural_network\\_multilayer_perceptron.py:612: UserWarning: Got `batch_size` less than 1 or larger than sample size. It is going to be clipped\n",
      "  \"Got `batch_size` less than 1 or larger than \"\n",
      "e:\\Books\\ML\\Assignments\\PA-2\\venv\\lib\\site-packages\\sklearn\\neural_network\\_multilayer_perceptron.py:696: ConvergenceWarning: Stochastic Optimizer: Maximum iterations (200) reached and the optimization hasn't converged yet.\n",
      "  ConvergenceWarning,\n",
      "e:\\Books\\ML\\Assignments\\PA-2\\venv\\lib\\site-packages\\sklearn\\neural_network\\_multilayer_perceptron.py:612: UserWarning: Got `batch_size` less than 1 or larger than sample size. It is going to be clipped\n",
      "  \"Got `batch_size` less than 1 or larger than \"\n",
      "e:\\Books\\ML\\Assignments\\PA-2\\venv\\lib\\site-packages\\sklearn\\neural_network\\_multilayer_perceptron.py:696: ConvergenceWarning: Stochastic Optimizer: Maximum iterations (200) reached and the optimization hasn't converged yet.\n",
      "  ConvergenceWarning,\n",
      "e:\\Books\\ML\\Assignments\\PA-2\\venv\\lib\\site-packages\\sklearn\\neural_network\\_multilayer_perceptron.py:612: UserWarning: Got `batch_size` less than 1 or larger than sample size. It is going to be clipped\n",
      "  \"Got `batch_size` less than 1 or larger than \"\n",
      "e:\\Books\\ML\\Assignments\\PA-2\\venv\\lib\\site-packages\\sklearn\\neural_network\\_multilayer_perceptron.py:696: ConvergenceWarning: Stochastic Optimizer: Maximum iterations (200) reached and the optimization hasn't converged yet.\n",
      "  ConvergenceWarning,\n"
     ]
    },
    {
     "name": "stdout",
     "output_type": "stream",
     "text": [
      "Testing Accuracy for MLP = 0.2857142857142857\n",
      "Testing Accuracy for MLP = 0.7142857142857143\n"
     ]
    },
    {
     "name": "stderr",
     "output_type": "stream",
     "text": [
      "e:\\Books\\ML\\Assignments\\PA-2\\venv\\lib\\site-packages\\sklearn\\neural_network\\_multilayer_perceptron.py:612: UserWarning: Got `batch_size` less than 1 or larger than sample size. It is going to be clipped\n",
      "  \"Got `batch_size` less than 1 or larger than \"\n",
      "e:\\Books\\ML\\Assignments\\PA-2\\venv\\lib\\site-packages\\sklearn\\neural_network\\_multilayer_perceptron.py:696: ConvergenceWarning: Stochastic Optimizer: Maximum iterations (200) reached and the optimization hasn't converged yet.\n",
      "  ConvergenceWarning,\n",
      "e:\\Books\\ML\\Assignments\\PA-2\\venv\\lib\\site-packages\\sklearn\\neural_network\\_multilayer_perceptron.py:612: UserWarning: Got `batch_size` less than 1 or larger than sample size. It is going to be clipped\n",
      "  \"Got `batch_size` less than 1 or larger than \"\n"
     ]
    },
    {
     "name": "stdout",
     "output_type": "stream",
     "text": [
      "Testing Accuracy for MLP = 0.2857142857142857\n"
     ]
    },
    {
     "name": "stderr",
     "output_type": "stream",
     "text": [
      "e:\\Books\\ML\\Assignments\\PA-2\\venv\\lib\\site-packages\\sklearn\\neural_network\\_multilayer_perceptron.py:696: ConvergenceWarning: Stochastic Optimizer: Maximum iterations (200) reached and the optimization hasn't converged yet.\n",
      "  ConvergenceWarning,\n",
      "e:\\Books\\ML\\Assignments\\PA-2\\venv\\lib\\site-packages\\sklearn\\neural_network\\_multilayer_perceptron.py:612: UserWarning: Got `batch_size` less than 1 or larger than sample size. It is going to be clipped\n",
      "  \"Got `batch_size` less than 1 or larger than \"\n",
      "e:\\Books\\ML\\Assignments\\PA-2\\venv\\lib\\site-packages\\sklearn\\neural_network\\_multilayer_perceptron.py:696: ConvergenceWarning: Stochastic Optimizer: Maximum iterations (200) reached and the optimization hasn't converged yet.\n",
      "  ConvergenceWarning,\n"
     ]
    },
    {
     "name": "stdout",
     "output_type": "stream",
     "text": [
      "Testing Accuracy for MLP = 0.7142857142857143\n",
      "Testing Accuracy for MLP = 0.5714285714285714\n"
     ]
    },
    {
     "name": "stderr",
     "output_type": "stream",
     "text": [
      "e:\\Books\\ML\\Assignments\\PA-2\\venv\\lib\\site-packages\\sklearn\\neural_network\\_multilayer_perceptron.py:612: UserWarning: Got `batch_size` less than 1 or larger than sample size. It is going to be clipped\n",
      "  \"Got `batch_size` less than 1 or larger than \"\n",
      "e:\\Books\\ML\\Assignments\\PA-2\\venv\\lib\\site-packages\\sklearn\\neural_network\\_multilayer_perceptron.py:696: ConvergenceWarning: Stochastic Optimizer: Maximum iterations (200) reached and the optimization hasn't converged yet.\n",
      "  ConvergenceWarning,\n",
      "e:\\Books\\ML\\Assignments\\PA-2\\venv\\lib\\site-packages\\sklearn\\neural_network\\_multilayer_perceptron.py:612: UserWarning: Got `batch_size` less than 1 or larger than sample size. It is going to be clipped\n",
      "  \"Got `batch_size` less than 1 or larger than \"\n"
     ]
    },
    {
     "name": "stdout",
     "output_type": "stream",
     "text": [
      "Testing Accuracy for MLP = 0.5714285714285714\n"
     ]
    },
    {
     "name": "stderr",
     "output_type": "stream",
     "text": [
      "e:\\Books\\ML\\Assignments\\PA-2\\venv\\lib\\site-packages\\sklearn\\neural_network\\_multilayer_perceptron.py:696: ConvergenceWarning: Stochastic Optimizer: Maximum iterations (200) reached and the optimization hasn't converged yet.\n",
      "  ConvergenceWarning,\n",
      "e:\\Books\\ML\\Assignments\\PA-2\\venv\\lib\\site-packages\\sklearn\\neural_network\\_multilayer_perceptron.py:612: UserWarning: Got `batch_size` less than 1 or larger than sample size. It is going to be clipped\n",
      "  \"Got `batch_size` less than 1 or larger than \"\n",
      "e:\\Books\\ML\\Assignments\\PA-2\\venv\\lib\\site-packages\\sklearn\\neural_network\\_multilayer_perceptron.py:696: ConvergenceWarning: Stochastic Optimizer: Maximum iterations (200) reached and the optimization hasn't converged yet.\n",
      "  ConvergenceWarning,\n"
     ]
    },
    {
     "name": "stdout",
     "output_type": "stream",
     "text": [
      "Testing Accuracy for MLP = 0.5714285714285714\n",
      "Testing Accuracy for MLP = 0.42857142857142855\n"
     ]
    },
    {
     "name": "stderr",
     "output_type": "stream",
     "text": [
      "e:\\Books\\ML\\Assignments\\PA-2\\venv\\lib\\site-packages\\sklearn\\neural_network\\_multilayer_perceptron.py:612: UserWarning: Got `batch_size` less than 1 or larger than sample size. It is going to be clipped\n",
      "  \"Got `batch_size` less than 1 or larger than \"\n",
      "e:\\Books\\ML\\Assignments\\PA-2\\venv\\lib\\site-packages\\sklearn\\neural_network\\_multilayer_perceptron.py:696: ConvergenceWarning: Stochastic Optimizer: Maximum iterations (200) reached and the optimization hasn't converged yet.\n",
      "  ConvergenceWarning,\n"
     ]
    },
    {
     "name": "stdout",
     "output_type": "stream",
     "text": [
      "Testing Accuracy for MLP = 0.5714285714285714\n",
      "Testing Accuracy for MLP = 0.42857142857142855\n"
     ]
    },
    {
     "name": "stderr",
     "output_type": "stream",
     "text": [
      "e:\\Books\\ML\\Assignments\\PA-2\\venv\\lib\\site-packages\\sklearn\\neural_network\\_multilayer_perceptron.py:612: UserWarning: Got `batch_size` less than 1 or larger than sample size. It is going to be clipped\n",
      "  \"Got `batch_size` less than 1 or larger than \"\n",
      "e:\\Books\\ML\\Assignments\\PA-2\\venv\\lib\\site-packages\\sklearn\\neural_network\\_multilayer_perceptron.py:696: ConvergenceWarning: Stochastic Optimizer: Maximum iterations (200) reached and the optimization hasn't converged yet.\n",
      "  ConvergenceWarning,\n",
      "e:\\Books\\ML\\Assignments\\PA-2\\venv\\lib\\site-packages\\sklearn\\neural_network\\_multilayer_perceptron.py:612: UserWarning: Got `batch_size` less than 1 or larger than sample size. It is going to be clipped\n",
      "  \"Got `batch_size` less than 1 or larger than \"\n",
      "e:\\Books\\ML\\Assignments\\PA-2\\venv\\lib\\site-packages\\sklearn\\neural_network\\_multilayer_perceptron.py:696: ConvergenceWarning: Stochastic Optimizer: Maximum iterations (200) reached and the optimization hasn't converged yet.\n",
      "  ConvergenceWarning,\n"
     ]
    },
    {
     "name": "stdout",
     "output_type": "stream",
     "text": [
      "Testing Accuracy for MLP = 0.5714285714285714\n",
      "Testing Accuracy for MLP = 0.42857142857142855\n"
     ]
    },
    {
     "name": "stderr",
     "output_type": "stream",
     "text": [
      "e:\\Books\\ML\\Assignments\\PA-2\\venv\\lib\\site-packages\\sklearn\\neural_network\\_multilayer_perceptron.py:612: UserWarning: Got `batch_size` less than 1 or larger than sample size. It is going to be clipped\n",
      "  \"Got `batch_size` less than 1 or larger than \"\n",
      "e:\\Books\\ML\\Assignments\\PA-2\\venv\\lib\\site-packages\\sklearn\\neural_network\\_multilayer_perceptron.py:696: ConvergenceWarning: Stochastic Optimizer: Maximum iterations (200) reached and the optimization hasn't converged yet.\n",
      "  ConvergenceWarning,\n",
      "e:\\Books\\ML\\Assignments\\PA-2\\venv\\lib\\site-packages\\sklearn\\neural_network\\_multilayer_perceptron.py:612: UserWarning: Got `batch_size` less than 1 or larger than sample size. It is going to be clipped\n",
      "  \"Got `batch_size` less than 1 or larger than \"\n",
      "e:\\Books\\ML\\Assignments\\PA-2\\venv\\lib\\site-packages\\sklearn\\neural_network\\_multilayer_perceptron.py:696: ConvergenceWarning: Stochastic Optimizer: Maximum iterations (200) reached and the optimization hasn't converged yet.\n",
      "  ConvergenceWarning,\n",
      "e:\\Books\\ML\\Assignments\\PA-2\\venv\\lib\\site-packages\\sklearn\\neural_network\\_multilayer_perceptron.py:612: UserWarning: Got `batch_size` less than 1 or larger than sample size. It is going to be clipped\n",
      "  \"Got `batch_size` less than 1 or larger than \"\n"
     ]
    },
    {
     "name": "stdout",
     "output_type": "stream",
     "text": [
      "Testing Accuracy for MLP = 0.2857142857142857\n"
     ]
    },
    {
     "name": "stderr",
     "output_type": "stream",
     "text": [
      "e:\\Books\\ML\\Assignments\\PA-2\\venv\\lib\\site-packages\\sklearn\\neural_network\\_multilayer_perceptron.py:696: ConvergenceWarning: Stochastic Optimizer: Maximum iterations (200) reached and the optimization hasn't converged yet.\n",
      "  ConvergenceWarning,\n",
      "e:\\Books\\ML\\Assignments\\PA-2\\venv\\lib\\site-packages\\sklearn\\neural_network\\_multilayer_perceptron.py:612: UserWarning: Got `batch_size` less than 1 or larger than sample size. It is going to be clipped\n",
      "  \"Got `batch_size` less than 1 or larger than \"\n"
     ]
    },
    {
     "name": "stdout",
     "output_type": "stream",
     "text": [
      "Testing Accuracy for MLP = 0.2857142857142857\n"
     ]
    },
    {
     "name": "stderr",
     "output_type": "stream",
     "text": [
      "e:\\Books\\ML\\Assignments\\PA-2\\venv\\lib\\site-packages\\sklearn\\neural_network\\_multilayer_perceptron.py:696: ConvergenceWarning: Stochastic Optimizer: Maximum iterations (200) reached and the optimization hasn't converged yet.\n",
      "  ConvergenceWarning,\n",
      "e:\\Books\\ML\\Assignments\\PA-2\\venv\\lib\\site-packages\\sklearn\\neural_network\\_multilayer_perceptron.py:612: UserWarning: Got `batch_size` less than 1 or larger than sample size. It is going to be clipped\n",
      "  \"Got `batch_size` less than 1 or larger than \"\n"
     ]
    },
    {
     "name": "stdout",
     "output_type": "stream",
     "text": [
      "Testing Accuracy for MLP = 0.2857142857142857\n"
     ]
    },
    {
     "name": "stderr",
     "output_type": "stream",
     "text": [
      "e:\\Books\\ML\\Assignments\\PA-2\\venv\\lib\\site-packages\\sklearn\\neural_network\\_multilayer_perceptron.py:696: ConvergenceWarning: Stochastic Optimizer: Maximum iterations (200) reached and the optimization hasn't converged yet.\n",
      "  ConvergenceWarning,\n",
      "e:\\Books\\ML\\Assignments\\PA-2\\venv\\lib\\site-packages\\sklearn\\neural_network\\_multilayer_perceptron.py:612: UserWarning: Got `batch_size` less than 1 or larger than sample size. It is going to be clipped\n",
      "  \"Got `batch_size` less than 1 or larger than \"\n",
      "e:\\Books\\ML\\Assignments\\PA-2\\venv\\lib\\site-packages\\sklearn\\neural_network\\_multilayer_perceptron.py:696: ConvergenceWarning: Stochastic Optimizer: Maximum iterations (200) reached and the optimization hasn't converged yet.\n",
      "  ConvergenceWarning,\n"
     ]
    },
    {
     "name": "stdout",
     "output_type": "stream",
     "text": [
      "Testing Accuracy for MLP = 0.7142857142857143\n",
      "Testing Accuracy for MLP = 0.7142857142857143\n"
     ]
    },
    {
     "name": "stderr",
     "output_type": "stream",
     "text": [
      "e:\\Books\\ML\\Assignments\\PA-2\\venv\\lib\\site-packages\\sklearn\\neural_network\\_multilayer_perceptron.py:612: UserWarning: Got `batch_size` less than 1 or larger than sample size. It is going to be clipped\n",
      "  \"Got `batch_size` less than 1 or larger than \"\n",
      "e:\\Books\\ML\\Assignments\\PA-2\\venv\\lib\\site-packages\\sklearn\\neural_network\\_multilayer_perceptron.py:696: ConvergenceWarning: Stochastic Optimizer: Maximum iterations (200) reached and the optimization hasn't converged yet.\n",
      "  ConvergenceWarning,\n"
     ]
    },
    {
     "name": "stdout",
     "output_type": "stream",
     "text": [
      "Testing Accuracy for MLP = 0.42857142857142855\n",
      "Testing Accuracy for MLP = 0.42857142857142855\n"
     ]
    },
    {
     "name": "stderr",
     "output_type": "stream",
     "text": [
      "e:\\Books\\ML\\Assignments\\PA-2\\venv\\lib\\site-packages\\sklearn\\neural_network\\_multilayer_perceptron.py:612: UserWarning: Got `batch_size` less than 1 or larger than sample size. It is going to be clipped\n",
      "  \"Got `batch_size` less than 1 or larger than \"\n",
      "e:\\Books\\ML\\Assignments\\PA-2\\venv\\lib\\site-packages\\sklearn\\neural_network\\_multilayer_perceptron.py:696: ConvergenceWarning: Stochastic Optimizer: Maximum iterations (200) reached and the optimization hasn't converged yet.\n",
      "  ConvergenceWarning,\n",
      "e:\\Books\\ML\\Assignments\\PA-2\\venv\\lib\\site-packages\\sklearn\\neural_network\\_multilayer_perceptron.py:612: UserWarning: Got `batch_size` less than 1 or larger than sample size. It is going to be clipped\n",
      "  \"Got `batch_size` less than 1 or larger than \"\n",
      "e:\\Books\\ML\\Assignments\\PA-2\\venv\\lib\\site-packages\\sklearn\\neural_network\\_multilayer_perceptron.py:696: ConvergenceWarning: Stochastic Optimizer: Maximum iterations (200) reached and the optimization hasn't converged yet.\n",
      "  ConvergenceWarning,\n",
      "e:\\Books\\ML\\Assignments\\PA-2\\venv\\lib\\site-packages\\sklearn\\neural_network\\_multilayer_perceptron.py:612: UserWarning: Got `batch_size` less than 1 or larger than sample size. It is going to be clipped\n",
      "  \"Got `batch_size` less than 1 or larger than \"\n"
     ]
    },
    {
     "name": "stdout",
     "output_type": "stream",
     "text": [
      "Testing Accuracy for MLP = 0.42857142857142855\n"
     ]
    },
    {
     "name": "stderr",
     "output_type": "stream",
     "text": [
      "e:\\Books\\ML\\Assignments\\PA-2\\venv\\lib\\site-packages\\sklearn\\neural_network\\_multilayer_perceptron.py:696: ConvergenceWarning: Stochastic Optimizer: Maximum iterations (200) reached and the optimization hasn't converged yet.\n",
      "  ConvergenceWarning,\n",
      "e:\\Books\\ML\\Assignments\\PA-2\\venv\\lib\\site-packages\\sklearn\\neural_network\\_multilayer_perceptron.py:612: UserWarning: Got `batch_size` less than 1 or larger than sample size. It is going to be clipped\n",
      "  \"Got `batch_size` less than 1 or larger than \"\n"
     ]
    },
    {
     "name": "stdout",
     "output_type": "stream",
     "text": [
      "Testing Accuracy for MLP = 0.2857142857142857\n"
     ]
    },
    {
     "name": "stderr",
     "output_type": "stream",
     "text": [
      "e:\\Books\\ML\\Assignments\\PA-2\\venv\\lib\\site-packages\\sklearn\\neural_network\\_multilayer_perceptron.py:696: ConvergenceWarning: Stochastic Optimizer: Maximum iterations (200) reached and the optimization hasn't converged yet.\n",
      "  ConvergenceWarning,\n",
      "e:\\Books\\ML\\Assignments\\PA-2\\venv\\lib\\site-packages\\sklearn\\neural_network\\_multilayer_perceptron.py:612: UserWarning: Got `batch_size` less than 1 or larger than sample size. It is going to be clipped\n",
      "  \"Got `batch_size` less than 1 or larger than \"\n"
     ]
    },
    {
     "name": "stdout",
     "output_type": "stream",
     "text": [
      "Testing Accuracy for MLP = 0.2857142857142857\n"
     ]
    },
    {
     "name": "stderr",
     "output_type": "stream",
     "text": [
      "e:\\Books\\ML\\Assignments\\PA-2\\venv\\lib\\site-packages\\sklearn\\neural_network\\_multilayer_perceptron.py:696: ConvergenceWarning: Stochastic Optimizer: Maximum iterations (200) reached and the optimization hasn't converged yet.\n",
      "  ConvergenceWarning,\n",
      "e:\\Books\\ML\\Assignments\\PA-2\\venv\\lib\\site-packages\\sklearn\\neural_network\\_multilayer_perceptron.py:612: UserWarning: Got `batch_size` less than 1 or larger than sample size. It is going to be clipped\n",
      "  \"Got `batch_size` less than 1 or larger than \"\n"
     ]
    },
    {
     "name": "stdout",
     "output_type": "stream",
     "text": [
      "Testing Accuracy for MLP = 0.2857142857142857\n"
     ]
    },
    {
     "name": "stderr",
     "output_type": "stream",
     "text": [
      "e:\\Books\\ML\\Assignments\\PA-2\\venv\\lib\\site-packages\\sklearn\\neural_network\\_multilayer_perceptron.py:696: ConvergenceWarning: Stochastic Optimizer: Maximum iterations (200) reached and the optimization hasn't converged yet.\n",
      "  ConvergenceWarning,\n",
      "e:\\Books\\ML\\Assignments\\PA-2\\venv\\lib\\site-packages\\sklearn\\neural_network\\_multilayer_perceptron.py:612: UserWarning: Got `batch_size` less than 1 or larger than sample size. It is going to be clipped\n",
      "  \"Got `batch_size` less than 1 or larger than \"\n"
     ]
    },
    {
     "name": "stdout",
     "output_type": "stream",
     "text": [
      "Testing Accuracy for MLP = 0.5714285714285714\n"
     ]
    },
    {
     "name": "stderr",
     "output_type": "stream",
     "text": [
      "e:\\Books\\ML\\Assignments\\PA-2\\venv\\lib\\site-packages\\sklearn\\neural_network\\_multilayer_perceptron.py:696: ConvergenceWarning: Stochastic Optimizer: Maximum iterations (200) reached and the optimization hasn't converged yet.\n",
      "  ConvergenceWarning,\n",
      "e:\\Books\\ML\\Assignments\\PA-2\\venv\\lib\\site-packages\\sklearn\\neural_network\\_multilayer_perceptron.py:612: UserWarning: Got `batch_size` less than 1 or larger than sample size. It is going to be clipped\n",
      "  \"Got `batch_size` less than 1 or larger than \"\n"
     ]
    },
    {
     "name": "stdout",
     "output_type": "stream",
     "text": [
      "Testing Accuracy for MLP = 0.42857142857142855\n"
     ]
    },
    {
     "name": "stderr",
     "output_type": "stream",
     "text": [
      "e:\\Books\\ML\\Assignments\\PA-2\\venv\\lib\\site-packages\\sklearn\\neural_network\\_multilayer_perceptron.py:696: ConvergenceWarning: Stochastic Optimizer: Maximum iterations (200) reached and the optimization hasn't converged yet.\n",
      "  ConvergenceWarning,\n",
      "e:\\Books\\ML\\Assignments\\PA-2\\venv\\lib\\site-packages\\sklearn\\neural_network\\_multilayer_perceptron.py:612: UserWarning: Got `batch_size` less than 1 or larger than sample size. It is going to be clipped\n",
      "  \"Got `batch_size` less than 1 or larger than \"\n"
     ]
    },
    {
     "name": "stdout",
     "output_type": "stream",
     "text": [
      "Testing Accuracy for MLP = 0.2857142857142857\n"
     ]
    },
    {
     "name": "stderr",
     "output_type": "stream",
     "text": [
      "e:\\Books\\ML\\Assignments\\PA-2\\venv\\lib\\site-packages\\sklearn\\neural_network\\_multilayer_perceptron.py:696: ConvergenceWarning: Stochastic Optimizer: Maximum iterations (200) reached and the optimization hasn't converged yet.\n",
      "  ConvergenceWarning,\n",
      "e:\\Books\\ML\\Assignments\\PA-2\\venv\\lib\\site-packages\\sklearn\\neural_network\\_multilayer_perceptron.py:612: UserWarning: Got `batch_size` less than 1 or larger than sample size. It is going to be clipped\n",
      "  \"Got `batch_size` less than 1 or larger than \"\n"
     ]
    },
    {
     "name": "stdout",
     "output_type": "stream",
     "text": [
      "Testing Accuracy for MLP = 0.7142857142857143\n"
     ]
    },
    {
     "name": "stderr",
     "output_type": "stream",
     "text": [
      "e:\\Books\\ML\\Assignments\\PA-2\\venv\\lib\\site-packages\\sklearn\\neural_network\\_multilayer_perceptron.py:696: ConvergenceWarning: Stochastic Optimizer: Maximum iterations (200) reached and the optimization hasn't converged yet.\n",
      "  ConvergenceWarning,\n",
      "e:\\Books\\ML\\Assignments\\PA-2\\venv\\lib\\site-packages\\sklearn\\neural_network\\_multilayer_perceptron.py:612: UserWarning: Got `batch_size` less than 1 or larger than sample size. It is going to be clipped\n",
      "  \"Got `batch_size` less than 1 or larger than \"\n",
      "e:\\Books\\ML\\Assignments\\PA-2\\venv\\lib\\site-packages\\sklearn\\neural_network\\_multilayer_perceptron.py:696: ConvergenceWarning: Stochastic Optimizer: Maximum iterations (200) reached and the optimization hasn't converged yet.\n",
      "  ConvergenceWarning,\n"
     ]
    },
    {
     "name": "stdout",
     "output_type": "stream",
     "text": [
      "Testing Accuracy for MLP = 0.7142857142857143\n",
      "Testing Accuracy for MLP = 0.42857142857142855\n"
     ]
    },
    {
     "name": "stderr",
     "output_type": "stream",
     "text": [
      "e:\\Books\\ML\\Assignments\\PA-2\\venv\\lib\\site-packages\\sklearn\\neural_network\\_multilayer_perceptron.py:612: UserWarning: Got `batch_size` less than 1 or larger than sample size. It is going to be clipped\n",
      "  \"Got `batch_size` less than 1 or larger than \"\n",
      "e:\\Books\\ML\\Assignments\\PA-2\\venv\\lib\\site-packages\\sklearn\\neural_network\\_multilayer_perceptron.py:696: ConvergenceWarning: Stochastic Optimizer: Maximum iterations (200) reached and the optimization hasn't converged yet.\n",
      "  ConvergenceWarning,\n"
     ]
    },
    {
     "name": "stdout",
     "output_type": "stream",
     "text": [
      "Testing Accuracy for MLP = 0.7142857142857143\n",
      "Testing Accuracy for MLP = 0.42857142857142855\n"
     ]
    },
    {
     "name": "stderr",
     "output_type": "stream",
     "text": [
      "e:\\Books\\ML\\Assignments\\PA-2\\venv\\lib\\site-packages\\sklearn\\neural_network\\_multilayer_perceptron.py:612: UserWarning: Got `batch_size` less than 1 or larger than sample size. It is going to be clipped\n",
      "  \"Got `batch_size` less than 1 or larger than \"\n",
      "e:\\Books\\ML\\Assignments\\PA-2\\venv\\lib\\site-packages\\sklearn\\neural_network\\_multilayer_perceptron.py:696: ConvergenceWarning: Stochastic Optimizer: Maximum iterations (200) reached and the optimization hasn't converged yet.\n",
      "  ConvergenceWarning,\n",
      "e:\\Books\\ML\\Assignments\\PA-2\\venv\\lib\\site-packages\\sklearn\\neural_network\\_multilayer_perceptron.py:612: UserWarning: Got `batch_size` less than 1 or larger than sample size. It is going to be clipped\n",
      "  \"Got `batch_size` less than 1 or larger than \"\n",
      "e:\\Books\\ML\\Assignments\\PA-2\\venv\\lib\\site-packages\\sklearn\\neural_network\\_multilayer_perceptron.py:696: ConvergenceWarning: Stochastic Optimizer: Maximum iterations (200) reached and the optimization hasn't converged yet.\n",
      "  ConvergenceWarning,\n"
     ]
    },
    {
     "name": "stdout",
     "output_type": "stream",
     "text": [
      "Testing Accuracy for MLP = 0.0\n",
      "Testing Accuracy for MLP = 0.2857142857142857\n"
     ]
    },
    {
     "name": "stderr",
     "output_type": "stream",
     "text": [
      "e:\\Books\\ML\\Assignments\\PA-2\\venv\\lib\\site-packages\\sklearn\\neural_network\\_multilayer_perceptron.py:612: UserWarning: Got `batch_size` less than 1 or larger than sample size. It is going to be clipped\n",
      "  \"Got `batch_size` less than 1 or larger than \"\n",
      "e:\\Books\\ML\\Assignments\\PA-2\\venv\\lib\\site-packages\\sklearn\\neural_network\\_multilayer_perceptron.py:696: ConvergenceWarning: Stochastic Optimizer: Maximum iterations (200) reached and the optimization hasn't converged yet.\n",
      "  ConvergenceWarning,\n",
      "e:\\Books\\ML\\Assignments\\PA-2\\venv\\lib\\site-packages\\sklearn\\neural_network\\_multilayer_perceptron.py:612: UserWarning: Got `batch_size` less than 1 or larger than sample size. It is going to be clipped\n",
      "  \"Got `batch_size` less than 1 or larger than \"\n",
      "e:\\Books\\ML\\Assignments\\PA-2\\venv\\lib\\site-packages\\sklearn\\neural_network\\_multilayer_perceptron.py:696: ConvergenceWarning: Stochastic Optimizer: Maximum iterations (200) reached and the optimization hasn't converged yet.\n",
      "  ConvergenceWarning,\n",
      "e:\\Books\\ML\\Assignments\\PA-2\\venv\\lib\\site-packages\\sklearn\\neural_network\\_multilayer_perceptron.py:612: UserWarning: Got `batch_size` less than 1 or larger than sample size. It is going to be clipped\n",
      "  \"Got `batch_size` less than 1 or larger than \"\n"
     ]
    },
    {
     "name": "stdout",
     "output_type": "stream",
     "text": [
      "Testing Accuracy for MLP = 0.7142857142857143\n"
     ]
    },
    {
     "name": "stderr",
     "output_type": "stream",
     "text": [
      "e:\\Books\\ML\\Assignments\\PA-2\\venv\\lib\\site-packages\\sklearn\\neural_network\\_multilayer_perceptron.py:696: ConvergenceWarning: Stochastic Optimizer: Maximum iterations (200) reached and the optimization hasn't converged yet.\n",
      "  ConvergenceWarning,\n",
      "e:\\Books\\ML\\Assignments\\PA-2\\venv\\lib\\site-packages\\sklearn\\neural_network\\_multilayer_perceptron.py:612: UserWarning: Got `batch_size` less than 1 or larger than sample size. It is going to be clipped\n",
      "  \"Got `batch_size` less than 1 or larger than \"\n"
     ]
    },
    {
     "name": "stdout",
     "output_type": "stream",
     "text": [
      "Testing Accuracy for MLP = 0.42857142857142855\n"
     ]
    },
    {
     "name": "stderr",
     "output_type": "stream",
     "text": [
      "e:\\Books\\ML\\Assignments\\PA-2\\venv\\lib\\site-packages\\sklearn\\neural_network\\_multilayer_perceptron.py:696: ConvergenceWarning: Stochastic Optimizer: Maximum iterations (200) reached and the optimization hasn't converged yet.\n",
      "  ConvergenceWarning,\n",
      "e:\\Books\\ML\\Assignments\\PA-2\\venv\\lib\\site-packages\\sklearn\\neural_network\\_multilayer_perceptron.py:612: UserWarning: Got `batch_size` less than 1 or larger than sample size. It is going to be clipped\n",
      "  \"Got `batch_size` less than 1 or larger than \"\n",
      "e:\\Books\\ML\\Assignments\\PA-2\\venv\\lib\\site-packages\\sklearn\\neural_network\\_multilayer_perceptron.py:696: ConvergenceWarning: Stochastic Optimizer: Maximum iterations (200) reached and the optimization hasn't converged yet.\n",
      "  ConvergenceWarning,\n"
     ]
    },
    {
     "name": "stdout",
     "output_type": "stream",
     "text": [
      "Testing Accuracy for MLP = 0.5714285714285714\n",
      "Testing Accuracy for MLP = 0.7142857142857143\n"
     ]
    },
    {
     "name": "stderr",
     "output_type": "stream",
     "text": [
      "e:\\Books\\ML\\Assignments\\PA-2\\venv\\lib\\site-packages\\sklearn\\neural_network\\_multilayer_perceptron.py:612: UserWarning: Got `batch_size` less than 1 or larger than sample size. It is going to be clipped\n",
      "  \"Got `batch_size` less than 1 or larger than \"\n",
      "e:\\Books\\ML\\Assignments\\PA-2\\venv\\lib\\site-packages\\sklearn\\neural_network\\_multilayer_perceptron.py:696: ConvergenceWarning: Stochastic Optimizer: Maximum iterations (200) reached and the optimization hasn't converged yet.\n",
      "  ConvergenceWarning,\n",
      "e:\\Books\\ML\\Assignments\\PA-2\\venv\\lib\\site-packages\\sklearn\\neural_network\\_multilayer_perceptron.py:612: UserWarning: Got `batch_size` less than 1 or larger than sample size. It is going to be clipped\n",
      "  \"Got `batch_size` less than 1 or larger than \"\n"
     ]
    },
    {
     "name": "stdout",
     "output_type": "stream",
     "text": [
      "Testing Accuracy for MLP = 0.2857142857142857\n"
     ]
    },
    {
     "name": "stderr",
     "output_type": "stream",
     "text": [
      "e:\\Books\\ML\\Assignments\\PA-2\\venv\\lib\\site-packages\\sklearn\\neural_network\\_multilayer_perceptron.py:696: ConvergenceWarning: Stochastic Optimizer: Maximum iterations (200) reached and the optimization hasn't converged yet.\n",
      "  ConvergenceWarning,\n",
      "e:\\Books\\ML\\Assignments\\PA-2\\venv\\lib\\site-packages\\sklearn\\neural_network\\_multilayer_perceptron.py:612: UserWarning: Got `batch_size` less than 1 or larger than sample size. It is going to be clipped\n",
      "  \"Got `batch_size` less than 1 or larger than \"\n"
     ]
    },
    {
     "name": "stdout",
     "output_type": "stream",
     "text": [
      "Testing Accuracy for MLP = 0.2857142857142857\n"
     ]
    },
    {
     "name": "stderr",
     "output_type": "stream",
     "text": [
      "e:\\Books\\ML\\Assignments\\PA-2\\venv\\lib\\site-packages\\sklearn\\neural_network\\_multilayer_perceptron.py:696: ConvergenceWarning: Stochastic Optimizer: Maximum iterations (200) reached and the optimization hasn't converged yet.\n",
      "  ConvergenceWarning,\n",
      "e:\\Books\\ML\\Assignments\\PA-2\\venv\\lib\\site-packages\\sklearn\\neural_network\\_multilayer_perceptron.py:612: UserWarning: Got `batch_size` less than 1 or larger than sample size. It is going to be clipped\n",
      "  \"Got `batch_size` less than 1 or larger than \"\n"
     ]
    },
    {
     "name": "stdout",
     "output_type": "stream",
     "text": [
      "Testing Accuracy for MLP = 0.2857142857142857\n"
     ]
    },
    {
     "name": "stderr",
     "output_type": "stream",
     "text": [
      "e:\\Books\\ML\\Assignments\\PA-2\\venv\\lib\\site-packages\\sklearn\\neural_network\\_multilayer_perceptron.py:696: ConvergenceWarning: Stochastic Optimizer: Maximum iterations (200) reached and the optimization hasn't converged yet.\n",
      "  ConvergenceWarning,\n",
      "e:\\Books\\ML\\Assignments\\PA-2\\venv\\lib\\site-packages\\sklearn\\neural_network\\_multilayer_perceptron.py:612: UserWarning: Got `batch_size` less than 1 or larger than sample size. It is going to be clipped\n",
      "  \"Got `batch_size` less than 1 or larger than \"\n",
      "e:\\Books\\ML\\Assignments\\PA-2\\venv\\lib\\site-packages\\sklearn\\neural_network\\_multilayer_perceptron.py:696: ConvergenceWarning: Stochastic Optimizer: Maximum iterations (200) reached and the optimization hasn't converged yet.\n",
      "  ConvergenceWarning,\n"
     ]
    },
    {
     "name": "stdout",
     "output_type": "stream",
     "text": [
      "Testing Accuracy for MLP = 0.7142857142857143\n",
      "Testing Accuracy for MLP = 0.7142857142857143\n"
     ]
    },
    {
     "name": "stderr",
     "output_type": "stream",
     "text": [
      "e:\\Books\\ML\\Assignments\\PA-2\\venv\\lib\\site-packages\\sklearn\\neural_network\\_multilayer_perceptron.py:612: UserWarning: Got `batch_size` less than 1 or larger than sample size. It is going to be clipped\n",
      "  \"Got `batch_size` less than 1 or larger than \"\n",
      "e:\\Books\\ML\\Assignments\\PA-2\\venv\\lib\\site-packages\\sklearn\\neural_network\\_multilayer_perceptron.py:696: ConvergenceWarning: Stochastic Optimizer: Maximum iterations (200) reached and the optimization hasn't converged yet.\n",
      "  ConvergenceWarning,\n",
      "e:\\Books\\ML\\Assignments\\PA-2\\venv\\lib\\site-packages\\sklearn\\neural_network\\_multilayer_perceptron.py:612: UserWarning: Got `batch_size` less than 1 or larger than sample size. It is going to be clipped\n",
      "  \"Got `batch_size` less than 1 or larger than \"\n"
     ]
    },
    {
     "name": "stdout",
     "output_type": "stream",
     "text": [
      "Testing Accuracy for MLP = 0.5714285714285714\n"
     ]
    },
    {
     "name": "stderr",
     "output_type": "stream",
     "text": [
      "e:\\Books\\ML\\Assignments\\PA-2\\venv\\lib\\site-packages\\sklearn\\neural_network\\_multilayer_perceptron.py:696: ConvergenceWarning: Stochastic Optimizer: Maximum iterations (200) reached and the optimization hasn't converged yet.\n",
      "  ConvergenceWarning,\n",
      "e:\\Books\\ML\\Assignments\\PA-2\\venv\\lib\\site-packages\\sklearn\\neural_network\\_multilayer_perceptron.py:612: UserWarning: Got `batch_size` less than 1 or larger than sample size. It is going to be clipped\n",
      "  \"Got `batch_size` less than 1 or larger than \"\n",
      "e:\\Books\\ML\\Assignments\\PA-2\\venv\\lib\\site-packages\\sklearn\\neural_network\\_multilayer_perceptron.py:696: ConvergenceWarning: Stochastic Optimizer: Maximum iterations (200) reached and the optimization hasn't converged yet.\n",
      "  ConvergenceWarning,\n"
     ]
    },
    {
     "name": "stdout",
     "output_type": "stream",
     "text": [
      "Testing Accuracy for MLP = 0.5714285714285714\n",
      "Testing Accuracy for MLP = 0.42857142857142855\n"
     ]
    },
    {
     "name": "stderr",
     "output_type": "stream",
     "text": [
      "e:\\Books\\ML\\Assignments\\PA-2\\venv\\lib\\site-packages\\sklearn\\neural_network\\_multilayer_perceptron.py:612: UserWarning: Got `batch_size` less than 1 or larger than sample size. It is going to be clipped\n",
      "  \"Got `batch_size` less than 1 or larger than \"\n",
      "e:\\Books\\ML\\Assignments\\PA-2\\venv\\lib\\site-packages\\sklearn\\neural_network\\_multilayer_perceptron.py:696: ConvergenceWarning: Stochastic Optimizer: Maximum iterations (200) reached and the optimization hasn't converged yet.\n",
      "  ConvergenceWarning,\n",
      "e:\\Books\\ML\\Assignments\\PA-2\\venv\\lib\\site-packages\\sklearn\\neural_network\\_multilayer_perceptron.py:612: UserWarning: Got `batch_size` less than 1 or larger than sample size. It is going to be clipped\n",
      "  \"Got `batch_size` less than 1 or larger than \"\n"
     ]
    },
    {
     "name": "stdout",
     "output_type": "stream",
     "text": [
      "Testing Accuracy for MLP = 0.2857142857142857\n"
     ]
    },
    {
     "name": "stderr",
     "output_type": "stream",
     "text": [
      "e:\\Books\\ML\\Assignments\\PA-2\\venv\\lib\\site-packages\\sklearn\\neural_network\\_multilayer_perceptron.py:696: ConvergenceWarning: Stochastic Optimizer: Maximum iterations (200) reached and the optimization hasn't converged yet.\n",
      "  ConvergenceWarning,\n",
      "e:\\Books\\ML\\Assignments\\PA-2\\venv\\lib\\site-packages\\sklearn\\neural_network\\_multilayer_perceptron.py:612: UserWarning: Got `batch_size` less than 1 or larger than sample size. It is going to be clipped\n",
      "  \"Got `batch_size` less than 1 or larger than \"\n"
     ]
    },
    {
     "name": "stdout",
     "output_type": "stream",
     "text": [
      "Testing Accuracy for MLP = 0.42857142857142855\n"
     ]
    },
    {
     "name": "stderr",
     "output_type": "stream",
     "text": [
      "e:\\Books\\ML\\Assignments\\PA-2\\venv\\lib\\site-packages\\sklearn\\neural_network\\_multilayer_perceptron.py:696: ConvergenceWarning: Stochastic Optimizer: Maximum iterations (200) reached and the optimization hasn't converged yet.\n",
      "  ConvergenceWarning,\n",
      "e:\\Books\\ML\\Assignments\\PA-2\\venv\\lib\\site-packages\\sklearn\\neural_network\\_multilayer_perceptron.py:612: UserWarning: Got `batch_size` less than 1 or larger than sample size. It is going to be clipped\n",
      "  \"Got `batch_size` less than 1 or larger than \"\n",
      "e:\\Books\\ML\\Assignments\\PA-2\\venv\\lib\\site-packages\\sklearn\\neural_network\\_multilayer_perceptron.py:696: ConvergenceWarning: Stochastic Optimizer: Maximum iterations (200) reached and the optimization hasn't converged yet.\n",
      "  ConvergenceWarning,\n"
     ]
    },
    {
     "name": "stdout",
     "output_type": "stream",
     "text": [
      "Testing Accuracy for MLP = 0.7142857142857143\n",
      "Testing Accuracy for MLP = 0.42857142857142855\n"
     ]
    },
    {
     "name": "stderr",
     "output_type": "stream",
     "text": [
      "e:\\Books\\ML\\Assignments\\PA-2\\venv\\lib\\site-packages\\sklearn\\neural_network\\_multilayer_perceptron.py:612: UserWarning: Got `batch_size` less than 1 or larger than sample size. It is going to be clipped\n",
      "  \"Got `batch_size` less than 1 or larger than \"\n",
      "e:\\Books\\ML\\Assignments\\PA-2\\venv\\lib\\site-packages\\sklearn\\neural_network\\_multilayer_perceptron.py:696: ConvergenceWarning: Stochastic Optimizer: Maximum iterations (200) reached and the optimization hasn't converged yet.\n",
      "  ConvergenceWarning,\n"
     ]
    },
    {
     "name": "stdout",
     "output_type": "stream",
     "text": [
      "Testing Accuracy for MLP = 0.2857142857142857\n",
      "\n",
      "Performance did not improve this round.\n",
      "End of Stepwise Forward Selection.\n",
      "\n"
     ]
    }
   ],
   "source": [
    "bestSetting = max(mlp_model_accuracy, key= mlp_model_accuracy.get)\n",
    "bestModel = mlp_model_map[bestSetting]\n",
    "\n",
    "opt_df = sfs(bestModel, df)"
   ]
  },
  {
   "cell_type": "code",
   "execution_count": 172,
   "metadata": {},
   "outputs": [
    {
     "name": "stdout",
     "output_type": "stream",
     "text": [
      "The best set of features are [1, 31, 38], here we have also included the label class 1\n"
     ]
    }
   ],
   "source": [
    "print(f\"The best set of features are {list(opt_df.columns)}, here we have also included the label class 1\")"
   ]
  },
  {
   "cell_type": "code",
   "execution_count": 202,
   "metadata": {},
   "outputs": [],
   "source": [
    "class ensembleModel:\n",
    "    def __init__(self, models):\n",
    "        self.models = models\n",
    "    def fit(self, train_df, train_label):\n",
    "        for model in self.models:\n",
    "            model.fit(train_df, train_label)\n",
    "    \n",
    "    def predict(self, test_df):\n",
    "        predictions = []\n",
    "        for model in self.models:\n",
    "            pred = model.predict(test_df)\n",
    "            predictions.append(pred)\n",
    "        result = scipy.stats.mode(np.stack(predictions), axis=0)\n",
    "        return result.mode[0]"
   ]
  },
  {
   "cell_type": "code",
   "execution_count": 203,
   "metadata": {},
   "outputs": [
    {
     "name": "stderr",
     "output_type": "stream",
     "text": [
      "e:\\Books\\ML\\Assignments\\PA-2\\venv\\lib\\site-packages\\sklearn\\neural_network\\_multilayer_perceptron.py:612: UserWarning: Got `batch_size` less than 1 or larger than sample size. It is going to be clipped\n",
      "  \"Got `batch_size` less than 1 or larger than \"\n"
     ]
    },
    {
     "name": "stdout",
     "output_type": "stream",
     "text": [
      "Testing Accuracy for Max Vote Ensemble model = 0.42857142857142855\n"
     ]
    },
    {
     "name": "stderr",
     "output_type": "stream",
     "text": [
      "e:\\Books\\ML\\Assignments\\PA-2\\venv\\lib\\site-packages\\sklearn\\neural_network\\_multilayer_perceptron.py:696: ConvergenceWarning: Stochastic Optimizer: Maximum iterations (200) reached and the optimization hasn't converged yet.\n",
      "  ConvergenceWarning,\n"
     ]
    }
   ],
   "source": [
    "bestSetting = max(mlp_model_accuracy, key= mlp_model_accuracy.get)\n",
    "bestModel = mlp_model_map[bestSetting]\n",
    "modelsForEnsemble = [model_map['poly'], model_map['rbf'], bestModel]\n",
    "\n",
    "ensemblemodel= ensembleModel(modelsForEnsemble)\n",
    "\n",
    "ensemblemodel.fit(norm_train, train_labels)\n",
    "pred = ensemblemodel.predict(norm_test)\n",
    "acc = GetAccuracy(test_labels, pred, False)\n",
    "print(f\"Testing Accuracy for Max Vote Ensemble model = {acc}\")"
   ]
  },
  {
   "cell_type": "code",
   "execution_count": 174,
   "metadata": {},
   "outputs": [],
   "source": [
    "predict1 = model_map['linear'].predict(norm_test)\n",
    "predict2 = model_map['poly'].predict(norm_test)"
   ]
  },
  {
   "cell_type": "code",
   "execution_count": 183,
   "metadata": {},
   "outputs": [
    {
     "name": "stdout",
     "output_type": "stream",
     "text": [
      "[2 2 2 2 2 3 2]\n",
      "[2 2 2 2 2 2 2]\n"
     ]
    }
   ],
   "source": [
    "print(predict1)\n",
    "print(predict2)\n",
    "arrays = [predict1, predict2, predict1]"
   ]
  },
  {
   "cell_type": "code",
   "execution_count": 184,
   "metadata": {},
   "outputs": [
    {
     "name": "stdout",
     "output_type": "stream",
     "text": [
      "ModeResult(mode=array([[2, 2, 2, 2, 2, 3, 2]], dtype=int64), count=array([[3, 3, 3, 3, 3, 2, 3]]))\n"
     ]
    },
    {
     "data": {
      "text/plain": [
       "array([[2, 2, 2, 2, 2, 3, 2]], dtype=int64)"
      ]
     },
     "execution_count": 184,
     "metadata": {},
     "output_type": "execute_result"
    }
   ],
   "source": [
    "result = scipy.stats.mode(np.stack(arrays), axis=0)\n",
    "print(result)\n",
    "result.mode"
   ]
  },
  {
   "cell_type": "code",
   "execution_count": 198,
   "metadata": {},
   "outputs": [
    {
     "data": {
      "text/plain": [
       "array([[2, 2, 2, 2, 2, 2, 2]], dtype=int64)"
      ]
     },
     "execution_count": 198,
     "metadata": {},
     "output_type": "execute_result"
    }
   ],
   "source": [
    "predtype"
   ]
  },
  {
   "cell_type": "code",
   "execution_count": null,
   "metadata": {},
   "outputs": [],
   "source": []
  }
 ],
 "metadata": {
  "kernelspec": {
   "display_name": "Python 3.7.4 ('venv': venv)",
   "language": "python",
   "name": "python3"
  },
  "language_info": {
   "codemirror_mode": {
    "name": "ipython",
    "version": 3
   },
   "file_extension": ".py",
   "mimetype": "text/x-python",
   "name": "python",
   "nbconvert_exporter": "python",
   "pygments_lexer": "ipython3",
   "version": "3.7.4"
  },
  "orig_nbformat": 4,
  "vscode": {
   "interpreter": {
    "hash": "8f0d34bed1a96ee45afccfc0bb761d045b3e478be92c290953e774fcd04e348c"
   }
  }
 },
 "nbformat": 4,
 "nbformat_minor": 2
}
