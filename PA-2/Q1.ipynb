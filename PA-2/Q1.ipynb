{
 "cells": [
  {
   "cell_type": "markdown",
   "metadata": {},
   "source": [
    "### Programming Assignment 2 Q1\n",
    "### Unsupervised Learning\n",
    "\n",
    "Group Number : 46\n",
    "\n",
    "Student 1 : Aryan Singh 19CS30007\n",
    "\n",
    "Student 2 : Seemant Guruprasad Achari 19CS30057\n"
   ]
  },
  {
   "cell_type": "code",
   "execution_count": 25,
   "metadata": {},
   "outputs": [],
   "source": [
    "# importing various tools and libraries\n",
    "import matplotlib.pyplot as plt\n",
    "import numpy as np\n",
    "import pandas as pd\n",
    "%matplotlib inline\n",
    "\n",
    "from sklearn.decomposition import PCA\n",
    "# implement standard StandardScaler\n",
    "from sklearn.preprocessing import StandardScaler\n"
   ]
  },
  {
   "cell_type": "code",
   "execution_count": 26,
   "metadata": {},
   "outputs": [],
   "source": [
    "# loading the dataset\n",
    "\n",
    "df = pd.read_csv('lung-cancer.data', header = None, na_values=[\"?\"])\n",
    "df.columns += 1"
   ]
  },
  {
   "cell_type": "code",
   "execution_count": 27,
   "metadata": {},
   "outputs": [
    {
     "name": "stdout",
     "output_type": "stream",
     "text": [
      "    1   2   3   4    5   6   7   8   9   10  ...  48  49  50  51  52  53  54  \\\n",
      "0    1   0   3   0  NaN   0   2   2   2   1  ...   2   2   2   2   2   1   1   \n",
      "1    1   0   3   3  1.0   0   3   1   3   1  ...   2   2   2   2   2   2   2   \n",
      "2    1   0   3   3  2.0   0   3   3   3   1  ...   2   2   2   2   2   2   2   \n",
      "3    1   0   2   3  2.0   1   3   3   3   1  ...   2   2   2   2   2   2   2   \n",
      "4    1   0   3   2  1.0   1   3   3   3   2  ...   2   2   2   2   2   2   2   \n",
      "5    1   0   3   3  2.0   0   3   3   3   1  ...   2   2   2   2   2   2   2   \n",
      "6    1   0   3   2  1.0   0   3   3   3   1  ...   2   2   2   2   1   2   2   \n",
      "7    1   0   2   2  1.0   0   3   1   3   3  ...   2   2   1   2   2   2   2   \n",
      "8    1   0   3   1  1.0   0   3   1   3   1  ...   2   2   2   2   2   2   2   \n",
      "9    2   0   2   3  2.0   0   2   2   2   1  ...   2   2   2   1   3   2   1   \n",
      "10   2   0   2   2  0.0   0   3   2   3   1  ...   2   2   2   2   2   2   2   \n",
      "11   2   0   2   3  2.0   0   1   2   1   1  ...   2   2   2   2   2   1   1   \n",
      "12   2   0   2   1  1.0   0   1   2   2   1  ...   2   2   2   2   2   2   2   \n",
      "13   2   0   2   2  1.0   1   2   3   3   1  ...   2   2   2   2   2   1   1   \n",
      "14   2   1   3   0  NaN   1   1   2   2   1  ...   2   2   2   2   2   2   2   \n",
      "15   2   0   3   2  2.0   1   2   2   2   1  ...   2   2   2   2   2   2   2   \n",
      "16   2   0   3   2  2.0   0   1   1   3   1  ...   2   2   2   2   2   2   2   \n",
      "17   2   0   2   1  1.0   0   2   1   3   1  ...   2   2   2   2   2   1   1   \n",
      "18   2   0   2   0  NaN   0   2   3   3   3  ...   2   2   2   2   2   2   2   \n",
      "19   2   0   1   2  1.0   0   3   3   3   1  ...   2   2   2   2   2   1   1   \n",
      "20   2   0   2   0  NaN   1   3   3   3   1  ...   2   2   2   2   1   2   2   \n",
      "21   2   0   3   3  2.0   0   2   1   3   1  ...   2   2   1   2   2   2   2   \n",
      "22   3   0   2   3  1.0   1   2   2   1   1  ...   3   3   3   3   1   3   3   \n",
      "23   3   0   2   3  1.0   1   1   2   1   1  ...   2   2   2   2   2   2   2   \n",
      "24   3   0   3   3  1.0   0   3   3   1   1  ...   2   2   2   2   3   2   2   \n",
      "25   3   0   2   3  2.0   0   1   2   2   1  ...   2   2   2   1   3   1   2   \n",
      "26   3   0   2   2  2.0   0   2   1   2   1  ...   2   2   2   2   2   2   2   \n",
      "27   3   0   2   2  1.0   0   2   2   2   1  ...   3   3   2   2   3   2   2   \n",
      "28   3   0   3   2  2.0   0   2   2   2   1  ...   2   2   2   3   1   2   2   \n",
      "29   3   0   2   1  1.0   0   2   2   1   1  ...   2   2   3   2   2   2   2   \n",
      "30   3   0   2   3  2.0   1   2   2   3   1  ...   2   2   2   2   2   2   2   \n",
      "31   3   0   2   3  1.0   0   2   3   3   1  ...   2   2   2   2   2   2   2   \n",
      "\n",
      "    55  56  57  \n",
      "0    1   2   2  \n",
      "1    1   2   2  \n",
      "2    2   1   2  \n",
      "3    2   2   2  \n",
      "4    1   2   2  \n",
      "5    2   1   2  \n",
      "6    2   1   2  \n",
      "7    1   2   2  \n",
      "8    1   2   2  \n",
      "9    1   2   2  \n",
      "10   2   2   2  \n",
      "11   2   2   1  \n",
      "12   1   2   2  \n",
      "13   1   2   2  \n",
      "14   1   2   1  \n",
      "15   2   2   2  \n",
      "16   1   2   2  \n",
      "17   1   2   2  \n",
      "18   2   1   2  \n",
      "19   2   2   1  \n",
      "20   1   2   2  \n",
      "21   2   1   2  \n",
      "22   2   2   1  \n",
      "23   2   2   1  \n",
      "24   2   2   1  \n",
      "25   2   1   2  \n",
      "26   1   2   1  \n",
      "27   2   2   1  \n",
      "28   2   2   2  \n",
      "29   2   2   1  \n",
      "30   1   2   2  \n",
      "31   2   2   2  \n",
      "\n",
      "[32 rows x 57 columns]\n",
      "Dataset loaded successfully!\n"
     ]
    }
   ],
   "source": [
    "print(df)\n",
    "\n",
    "print(\"Dataset loaded successfully!\")"
   ]
  },
  {
   "cell_type": "code",
   "execution_count": 28,
   "metadata": {},
   "outputs": [
    {
     "name": "stdout",
     "output_type": "stream",
     "text": [
      "Attribute 5 has 4 missing data.\n",
      "Attribute 39 has 1 missing data.\n"
     ]
    }
   ],
   "source": [
    "for attr,value in df.isna().sum().items():\n",
    "    if(value > 0):\n",
    "        print(f\"Attribute {attr} has {value} missing data.\")"
   ]
  },
  {
   "cell_type": "code",
   "execution_count": 29,
   "metadata": {},
   "outputs": [],
   "source": [
    "# Filling the na values with mode of the columns\n",
    "fill_mode = lambda col: col.replace(np.nan, col.mode()[0])\n",
    "df_without_na = df.apply(fill_mode, axis=0)"
   ]
  },
  {
   "cell_type": "code",
   "execution_count": 30,
   "metadata": {},
   "outputs": [
    {
     "name": "stdout",
     "output_type": "stream",
     "text": [
      "Missing data handled with mode!\n"
     ]
    }
   ],
   "source": [
    "for attr,value in df_without_na.isna().sum().items():\n",
    "    if(value > 0):\n",
    "        print(f\"Attribute {attr} has {value} missing data.\")\n",
    "print(\"Missing data handled with mode!\")"
   ]
  },
  {
   "cell_type": "code",
   "execution_count": 31,
   "metadata": {},
   "outputs": [
    {
     "data": {
      "text/plain": [
       "StandardScaler()"
      ]
     },
     "execution_count": 31,
     "metadata": {},
     "output_type": "execute_result"
    }
   ],
   "source": [
    "# Data Preprocessing\n",
    "scaler = StandardScaler()\n",
    "scaler.fit(df_without_na)"
   ]
  },
  {
   "cell_type": "code",
   "execution_count": 33,
   "metadata": {},
   "outputs": [],
   "source": [
    "scaled_data = df_without_na\n",
    "scaled_data = scaler.transform(df_without_na)"
   ]
  },
  {
   "cell_type": "code",
   "execution_count": 34,
   "metadata": {},
   "outputs": [
    {
     "data": {
      "text/plain": [
       "(32, 57)"
      ]
     },
     "execution_count": 34,
     "metadata": {},
     "output_type": "execute_result"
    }
   ],
   "source": [
    "scaled_data.shape"
   ]
  },
  {
   "cell_type": "code",
   "execution_count": 35,
   "metadata": {},
   "outputs": [
    {
     "data": {
      "text/plain": [
       "PCA()"
      ]
     },
     "execution_count": 35,
     "metadata": {},
     "output_type": "execute_result"
    }
   ],
   "source": [
    "pca = PCA()\n",
    "pca.fit(scaled_data)"
   ]
  },
  {
   "cell_type": "code",
   "execution_count": 36,
   "metadata": {},
   "outputs": [
    {
     "name": "stdout",
     "output_type": "stream",
     "text": [
      "21 components of explained variance captures 0.9523915010463893 variance\n"
     ]
    }
   ],
   "source": [
    "number_of_components = 0\n",
    "total_variance_captured = 0\n",
    "\n",
    "for variance in pca.explained_variance_ratio_:\n",
    "    number_of_components += 1\n",
    "    total_variance_captured += variance\n",
    "    if(total_variance_captured > 0.95):\n",
    "        break\n",
    "\n",
    "print(f\"{number_of_components} components of explained variance captures {total_variance_captured} variance\")"
   ]
  },
  {
   "cell_type": "code",
   "execution_count": 37,
   "metadata": {},
   "outputs": [
    {
     "data": {
      "text/plain": [
       "Text(0, 0.5, 'Cumulative Explained Variance')"
      ]
     },
     "execution_count": 37,
     "metadata": {},
     "output_type": "execute_result"
    },
    {
     "data": {
      "image/png": "[encoded data removed]",
      "text/plain": [
       "<Figure size 1000x800 with 1 Axes>"
      ]
     },
     "metadata": {},
     "output_type": "display_data"
    }
   ],
   "source": [
    "plt.figure(figsize = (10,8))\n",
    "plt.plot(range(1, len(pca.explained_variance_ratio_)+1), pca.explained_variance_ratio_.cumsum(), marker = 'o', linestyle = '--')\n",
    "plt.title(\"Explnd Variance by Components\")\n",
    "plt.xlabel(\"Number of Components\")\n",
    "plt.ylabel(\"Cumulative Explained Variance\")"
   ]
  },
  {
   "cell_type": "code",
   "execution_count": 38,
   "metadata": {},
   "outputs": [
    {
     "data": {
      "text/plain": [
       "PCA(n_components=21)"
      ]
     },
     "execution_count": 38,
     "metadata": {},
     "output_type": "execute_result"
    }
   ],
   "source": [
    "# using the derived number of components\n",
    "pca = PCA(n_components = number_of_components)\n",
    "pca.fit(scaled_data)"
   ]
  },
  {
   "cell_type": "code",
   "execution_count": 39,
   "metadata": {},
   "outputs": [],
   "source": [
    "scores_pca = pca.transform(scaled_data)"
   ]
  },
  {
   "cell_type": "code",
   "execution_count": 40,
   "metadata": {},
   "outputs": [
    {
     "data": {
      "text/plain": [
       "(32, 21)"
      ]
     },
     "execution_count": 40,
     "metadata": {},
     "output_type": "execute_result"
    }
   ],
   "source": [
    "scores_pca.shape"
   ]
  },
  {
   "cell_type": "code",
   "execution_count": 41,
   "metadata": {},
   "outputs": [],
   "source": [
    "x_pca = pca.transform(scaled_data)"
   ]
  },
  {
   "cell_type": "code",
   "execution_count": 42,
   "metadata": {},
   "outputs": [
    {
     "data": {
      "text/plain": [
       "(32, 21)"
      ]
     },
     "execution_count": 42,
     "metadata": {},
     "output_type": "execute_result"
    }
   ],
   "source": [
    "x_pca.shape"
   ]
  },
  {
   "cell_type": "code",
   "execution_count": 24,
   "metadata": {},
   "outputs": [
    {
     "data": {
      "text/plain": [
       "Text(0, 0.5, 'Second principle component')"
      ]
     },
     "execution_count": 24,
     "metadata": {},
     "output_type": "execute_result"
    },
    {
     "data": {
      "image/png": "[encoded data removed]",
      "text/plain": [
       "<Figure size 800x600 with 1 Axes>"
      ]
     },
     "metadata": {},
     "output_type": "display_data"
    }
   ],
   "source": [
    "plt.figure(figsize=(8,6))\n",
    "plt.scatter(x_pca[:,0],x_pca[:,1],c=df[1])\n",
    "plt.xlabel('First principle component')\n",
    "plt.ylabel('Second principle component')"
   ]
  },
  {
   "cell_type": "code",
   "execution_count": null,
   "metadata": {},
   "outputs": [],
   "source": []
  }
 ],
 "metadata": {
  "kernelspec": {
   "display_name": "Python 3.7.4 ('venv': venv)",
   "language": "python",
   "name": "python3"
  },
  "language_info": {
   "codemirror_mode": {
    "name": "ipython",
    "version": 3
   },
   "file_extension": ".py",
   "mimetype": "text/x-python",
   "name": "python",
   "nbconvert_exporter": "python",
   "pygments_lexer": "ipython3",
   "version": "3.7.4"
  },
  "orig_nbformat": 4,
  "vscode": {
   "interpreter": {
    "hash": "8f0d34bed1a96ee45afccfc0bb761d045b3e478be92c290953e774fcd04e348c"
   }
  }
 },
 "nbformat": 4,
 "nbformat_minor": 2
}
