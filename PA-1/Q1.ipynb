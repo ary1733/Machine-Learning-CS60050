{
 "cells": [
  {
   "cell_type": "markdown",
   "metadata": {},
   "source": [
    "### Programming Assignment 1 Q1\n",
    "### Decision Tree\n",
    "\n",
    "Group Number : 46\n",
    "\n",
    "Student 1 : Aryan Singh 19CS30007\n",
    "\n",
    "Student 2 : Seemant Guruprasad Achari 19CS30057\n"
   ]
  },
  {
   "cell_type": "code",
   "execution_count": null,
   "metadata": {},
   "outputs": [],
   "source": []
  }
 ],
 "metadata": {
  "kernelspec": {
   "display_name": "Python 3.7.4 ('venv': venv)",
   "language": "python",
   "name": "python3"
  },
  "language_info": {
   "codemirror_mode": {
    "name": "ipython",
    "version": 3
   },
   "file_extension": ".py",
   "mimetype": "text/x-python",
   "name": "python",
   "nbconvert_exporter": "python",
   "pygments_lexer": "ipython3",
   "version": "3.7.4"
  },
  "orig_nbformat": 4,
  "vscode": {
   "interpreter": {
    "hash": "a300604ec19f1262707987b8931cb13819a0956c707061a8a3861e9aea3c0e0c"
   }
  }
 },
 "nbformat": 4,
 "nbformat_minor": 2
}
